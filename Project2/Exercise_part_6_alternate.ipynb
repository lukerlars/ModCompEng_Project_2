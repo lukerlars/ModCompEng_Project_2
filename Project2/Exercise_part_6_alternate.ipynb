{
 "cells": [
  {
   "cell_type": "markdown",
   "metadata": {},
   "source": [
    "#### Boundary condition at $y = y_w$:\n",
    "\n",
    "The second order finite diference approximation is defined as: \n",
    "\n",
    "\\begin{equation}\n",
    "f'(x) = \\frac{f(x+h) -f(x-h)}{2h} - \\mathcal{O}(h^2)\n",
    "\\end{equation}\n",
    "\n",
    "We will use this expression to calculate the values of $p_{-1}$\n",
    "\\begin{equation}\n",
    "\\frac{\\delta p}{\\delta y}\n",
    "=\\frac{p^{n+1}_{i+1}-p^{n+1}_{i-1}}{2 \\Delta y}\n",
    "+\\mathcal{O}(\\Delta{y^2})\n",
    "\\end{equation}\n",
    "\n",
    "Recall the boundary condition: \n",
    "\\begin{equation}\n",
    "\\frac{\\delta p}{\\delta y} |_{y = y_w} = \\frac{Q \\mu }{2 \\pi h k}\n",
    "\\end{equation}\n",
    "\n",
    "Utilizing the second order difference approximation, we get: \n",
    "\\begin{equation}\n",
    "\\frac{\\partial p}{\\partial y} = \n",
    "\\frac{p_{1}^{n+1}-p_{-1}^{n+1}}{ \\Delta y} + \\mathcal{O}(\\Delta y) = \\frac{Q \\mu }{\\pi h k}\n",
    "\\end{equation} \n",
    "\n",
    "Then, again assuming that $\\mathcal{O}(\\Delta y)$ approaches zero, we get the condition: \n",
    "\n",
    "\n",
    "\\begin{equation}\n",
    "p_{-1}^{n+1} = p_1^{n+1} -\\frac{ Q \\mu \\Delta y}{\\pi h k} \n",
    "\\end{equation}\n",
    "\n",
    "\\begin{equation}\n",
    "p_{-1}^{n+1} = p_1^{n+1} -2\\beta\n",
    "\\end{equation}\n",
    "\n",
    "#### Inserting\n",
    "We can then input these conditions for the equation sets in part 5\n",
    "\n",
    "$i = 0$\n",
    "\n",
    "\\begin{equation}\n",
    "\\frac{p_0^{n+1} - p_0^{n}}{\\Delta t} = \\eta \\frac{e^{-2 y_0}}{r_w^2} \\frac{p_{1}^{n+1} + p_{-1}^{n+1}-2 p_{0}^{n+1}}{\\Delta y^2}\n",
    "\\end{equation}\n",
    "\n",
    "\n",
    "\\begin{equation}\n",
    "p_0^{n+1} - p_0^n = \\xi_0 (p_{1}^{n+1} + p_{-1}^{n+1}-2 p_{0}^{n+1})\n",
    "\\end{equation}\n",
    "\n",
    "\\begin{equation}\n",
    "p_0^{n+1} - p_0^n = \\xi_0 (p_{1}^{n+1} +p_1^{n+1} -2 \\beta-2 p_{0}^{n+1})\n",
    "\\end{equation}\n",
    "\n",
    "\\begin{equation}\n",
    "p_0^{n+1}(1 + 2 \\xi_0) - 2\\xi_0 p_1^{n+1} = p_0^n - 2 \\xi_0 \\beta \n",
    "\\end{equation}"
   ]
  },
  {
   "cell_type": "markdown",
   "metadata": {},
   "source": [
    "Which is in fact, not the correct solution. \n"
   ]
  },
  {
   "cell_type": "code",
   "execution_count": null,
   "metadata": {},
   "outputs": [],
   "source": []
  }
 ],
 "metadata": {
  "kernelspec": {
   "display_name": "Python 3",
   "language": "python",
   "name": "python3"
  },
  "language_info": {
   "codemirror_mode": {
    "name": "ipython",
    "version": 3
   },
   "file_extension": ".py",
   "mimetype": "text/x-python",
   "name": "python",
   "nbconvert_exporter": "python",
   "pygments_lexer": "ipython3",
   "version": "3.7.4"
  }
 },
 "nbformat": 4,
 "nbformat_minor": 2
}
