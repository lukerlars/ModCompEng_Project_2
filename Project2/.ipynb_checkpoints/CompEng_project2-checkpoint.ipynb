{
 "cells": [
  {
   "cell_type": "markdown",
   "metadata": {},
   "source": [
    "# Modelling and Computational Engineering Project 2\n"
   ]
  },
  {
   "cell_type": "code",
   "execution_count": null,
   "metadata": {},
   "outputs": [],
   "source": []
  },
  {
   "cell_type": "code",
   "execution_count": null,
   "metadata": {},
   "outputs": [],
   "source": []
  },
  {
   "cell_type": "code",
   "execution_count": null,
   "metadata": {},
   "outputs": [],
   "source": []
  },
  {
   "cell_type": "code",
   "execution_count": 3,
   "metadata": {},
   "outputs": [],
   "source": [
    "import pandas as pd\n",
    "import numpy as np\n",
    "import matplotlib.pyplot as plt\n",
    "import scipy.special as sc\n",
    "import scipy \n",
    "\n",
    "\n",
    "%matplotlib inline"
   ]
  },
  {
   "cell_type": "code",
   "execution_count": 136,
   "metadata": {},
   "outputs": [],
   "source": [
    "class RadialDiffusivityEquationSolver:\n",
    "    \"\"\"\n",
    "    A finite difference solver for the radial diffusivity equation.\n",
    "    We use the coordinate transformation y = ln(r/rw) to set up and\n",
    "    solve the pressure equation.\n",
    "\n",
    "    The solver uses SI units internally, while \"practical field units\"\n",
    "    are required as input.\n",
    "\n",
    "    Except for the number of grid blocks / points to use, all class\n",
    "    instance attributes are provided with reasonable default values.\n",
    "\n",
    "    Input arguments:\n",
    "\n",
    "        name                                symbol      unit\n",
    "        --------------------------------------------------------------\n",
    "        Number of grid points                N          dimensionless\n",
    "        well radius                          rw         ft\n",
    "        extent of reservoir                  re         ft\n",
    "        height of reservoir                  h          ft\n",
    "        permeability                         k          mD\n",
    "        porosity                             phi        dimensionless\n",
    "        fluid viscosity                      mu         mPas (cP)\n",
    "        total compressibility                ct         1 / psi\n",
    "        constant flow rate at well           Q          bbl / day\n",
    "        initial reservoir pressure           pi         psi\n",
    "        constant time step                   dt         days\n",
    "        maximal simulation time          max_time       days\n",
    "        -------------------------------------------------------------\n",
    "    \"\"\"\n",
    "\n",
    "    def __init__(self, N, rw=0.328, re = 100000., h=8.0,\n",
    "                 k=500, phi=0.1, mu=1.0, ct=17.7e-6,\n",
    "                 Q=1000, pi=2000, dt=0.1, max_time=10):\n",
    "\n",
    "        # Unit conversion factors (input units --> SI)\n",
    "        self.ft_to_m_ = 0.3048\n",
    "        self.psi_to_pa_ = 6894.75729\n",
    "        self.day_to_sec_ = 24*60*60\n",
    "        self.bbl_to_m3_ = 0.1589873\n",
    "\n",
    "        # Grid\n",
    "        self.N_ = N\n",
    "        self.rw_ = rw*self.ft_to_m_\n",
    "        self.re_ = re*self.ft_to_m_\n",
    "        self.h_ = h*self.ft_to_m_\n",
    "\n",
    "        # Rock and fluid properties\n",
    "        self.k_ = k*1e-15 / 1.01325\n",
    "        self.phi_ = phi\n",
    "        self.mu_ = mu*1e-3\n",
    "        self.ct_ = ct / self.psi_to_pa_\n",
    "        self.eta_ = self.k_/(self.mu_*self.phi_*self.ct_)\n",
    "\n",
    "        # Initial and boundary conditions\n",
    "        self.Q_ = Q*self.bbl_to_m3_ / self.day_to_sec_\n",
    "        self.pi_ = pi*self.psi_to_pa_\n",
    "\n",
    "        # Time control for simulation\n",
    "        self.dt_ = dt*self.day_to_sec_\n",
    "        self.max_time_ = max_time*self.day_to_sec_\n",
    "        self.current_time_ = 0.\n",
    "        \n",
    "        # Part4, Discrete midpoints\n",
    "        self.yw_ = 0\n",
    "        self.ye_ = np.log(self.re_/self.rw_)\n",
    "        self.y_ = np.linspace(self.yw_, self.ye_, num =N)\n",
    "        self.dy_ = (self.ye_-self.yw_)/self.N_\n",
    "        self.y0_ = self.yw_ + 0.5*self.dy_\n",
    "        self.y_mids = np.linspace(self.y0_,self.ye_ - 0.5*self.dy_, self.N_)\n",
    "        self.r_from_mids = self.rw_*np.exp(self.y_mids)\n",
    "        \n",
    "        \n",
    "    \n",
    "        \n",
    "    def line_source_solution(self, t, r):\n",
    "        return self.pi_ + ((self.Q_*self.mu_)/(4*np.pi*self.k_*self.h_))*sc.expi(-(r**2)/(4*self.eta_*t*self.day_to_sec_))\n",
    "    \n",
    "    def plot_line_source_solution(self, t, r):\n",
    "        res_pres= self.line_source_solution(t, r)\n",
    "        figure = plt.figure()\n",
    "        plot = figure.add_subplot()\n",
    "        plot.plot(r,res_pres)\n",
    "        plot.set_title('Plot of analytical solution')\n",
    "        plot.set_xscale('log')\n",
    "        plt.xlabel('Radial distance from line source')\n",
    "        plt.ylabel('Pressure [Pa]')\n",
    "     \n",
    "    def plot_numerical_solution(self,t,sparse ='True'):\n",
    "        num_out = self.rhs(t, sparse)\n",
    "        \n",
    "        figure31 = plt.figure()\n",
    "        plot31 = figure31.add_subplot()\n",
    "        plot31.plot(self.r_from_mids, num_out , label = 'Numerical solution')\n",
    "        plot31.set_xscale('log')\n",
    "        plot31.set_title('Numerical solution')\n",
    "        plt.xlabel('Radial distance from line source')\n",
    "        plt.ylabel('Pressure [Pa], Calculated Numerically')\n",
    "    \n",
    "\n",
    "    \n",
    "   \n",
    "    def xi(self,y_i):\n",
    "        \"\"\"Function that calculates xi coefficient of y_i input\"\"\"\n",
    "        return self.eta_*np.exp(-2*y_i)*self.dt_/((self.rw_*self.dy_)**2)   \n",
    "     \n",
    "    def setup_matrix(self):\n",
    "        \"\"\"Function that \"sets up\" a matrix by storing the coefficients of the linear difference equations\n",
    "        over the time steps and grid points.\"\"\"\n",
    "        \n",
    "        matrix = np.zeros((self.N_,self.N_))\n",
    "        \n",
    "        #First and last row\n",
    "        matrix[0][0] = 1 + self.xi(self.y_mids[0])\n",
    "        matrix[0][1] = - self.xi(self.y_mids[0])\n",
    "        matrix[self.N_-1][self.N_-1] = 1 + self.xi(self.y_mids[self.N_-1])\n",
    "        matrix[self.N_-1][self.N_-2] = -self.xi(self.y_mids[self.N_-1])\n",
    "        \n",
    "        #Mid-rows\n",
    "        for index in range(self.N_):\n",
    "            if index == 0 or index == (self.N_ -1):\n",
    "                pass\n",
    "            else:\n",
    "                matrix[index][index-1] = -self.xi(self.y_mids[index])\n",
    "                matrix[index][index] = 1 + 2*self.xi(self.y_mids[index])\n",
    "                matrix[index][index+1] = -self.xi(self.y_mids[index])\n",
    "        \n",
    "        return(matrix)\n",
    "   \n",
    "    \n",
    "    def setup_sparse_matrix(self):\n",
    "        \"\"\" function that stores diagonal entries and sets up a sparce matrix\"\"\"\n",
    "        \n",
    "        main_diag =[1 + 2*self.xi(y) for y in self.y_mids]    #list comprehension assigns 1 +2*eta, to all diag-entries\n",
    "        main_diag[0] = 1 + self.xi(self.y_mids[0])            #correcting first and last row\n",
    "        main_diag[self.N_-1] = 1+ self.xi(self.y_mids[self.N_-1])\n",
    "        over_diag = [-self.xi(y) for y in self.y_mids if y != self.y_mids[self.N_-1]]\n",
    "        under_diag =[-self.xi(y) for y in self.y_mids if y != self.y_mids[0]]\n",
    "       \n",
    "        diagonals = [main_diag, over_diag, under_diag]\n",
    "        sparse_matrix = scipy.sparse.diags(diagonals, [0, 1,-1]).toarray()\n",
    "        \n",
    "        return sparse_matrix\n",
    "        \n",
    "    def rhs(self, t, sparse = 'True'):\n",
    "        \"\"\"Function that returns the right hand side of the vector equation\"\"\"\n",
    "        beta_ = (self.Q_*self.mu_*self.dy_)/(2*np.pi*self.k_*self.h_)\n",
    "        \n",
    "        #Creating the initial pressure vector\n",
    "        init_p=self.N_*[self.pi_]\n",
    "        init_p[0] = init_p[0] - self.xi(y_mids[0])*beta_\n",
    "        \n",
    "        #Selector for sparse or dense matrix\n",
    "        if sparse == 'True':\n",
    "            matrix = self.setup_sparse_matrix()\n",
    "        else:\n",
    "            matrix = self.setup_matrix()\n",
    "        \n",
    "        inverted_matrix = np.linalg.inv(matrix)\n",
    "        p_vec = init_p\n",
    "        y_index = self.y_mids[0]\n",
    "        \n",
    "        for i in np.arange(0,t, self.dt_):\n",
    "            p_vec = np.matmul(inverted_matrix,p_vec)\n",
    "        return(p_vec)\n",
    "            \n",
    "        \n",
    "    def top_level(self, t, sparse = 'True'):\n",
    "        \n",
    "        self.plot_numerical_solution(t,sparse)\n",
    "        self.plot_line_source_solution(t,instance.r_from_mids)\n",
    "\n",
    "        %timeit instance.rhs(t, sparse ='True')\n",
    "        %timeit instance.rhs(t, sparse ='False')"
   ]
  },
  {
   "cell_type": "code",
   "execution_count": 137,
   "metadata": {},
   "outputs": [
    {
     "data": {
      "text/plain": [
       "array([[ 7.09640894e+03, -7.09540894e+03,  0.00000000e+00,\n",
       "         0.00000000e+00],\n",
       "       [-1.28503321e+01,  2.67006643e+01, -1.28503321e+01,\n",
       "         0.00000000e+00],\n",
       "       [ 0.00000000e+00, -2.32729413e-02,  1.04654588e+00,\n",
       "        -2.32729413e-02],\n",
       "       [ 0.00000000e+00,  0.00000000e+00, -4.21490894e-05,\n",
       "         1.00004215e+00]])"
      ]
     },
     "execution_count": 137,
     "metadata": {},
     "output_type": "execute_result"
    }
   ],
   "source": [
    "testing = RadialDiffusivityEquationSolver(4)\n",
    "\n",
    "testing.setup_matrix()\n",
    "\n",
    "testing.setup_sparse_matrix()\n"
   ]
  },
  {
   "cell_type": "markdown",
   "metadata": {},
   "source": [
    "##  Exercise 1"
   ]
  },
  {
   "cell_type": "markdown",
   "metadata": {},
   "source": [
    "### Part 1"
   ]
  },
  {
   "cell_type": "code",
   "execution_count": 12,
   "metadata": {},
   "outputs": [],
   "source": [
    "df = pd.read_csv('/Users/lars/Documents/UIS5.Semester/project2_comp_eng/ModCompEng_Project_2/Project2/data/perm_data.dat', skiprows=4, sep = '\\t')"
   ]
  },
  {
   "cell_type": "markdown",
   "metadata": {},
   "source": [
    "Task: import file and plot $\\Delta P$ vs $Q$"
   ]
  },
  {
   "cell_type": "code",
   "execution_count": 27,
   "metadata": {},
   "outputs": [
    {
     "name": "stdout",
     "output_type": "stream",
     "text": [
      "   q[ml/s]  DP[atm]\n",
      "0      0.1    0.396\n",
      "1      0.2    0.170\n",
      "2      0.3    0.720\n",
      "3      0.6    0.369\n",
      "4      1.0    1.406\n",
      "5      1.5    2.318\n",
      "6      2.0    8.000\n"
     ]
    }
   ],
   "source": [
    "print(df)"
   ]
  },
  {
   "cell_type": "code",
   "execution_count": 14,
   "metadata": {},
   "outputs": [
    {
     "data": {
      "text/plain": [
       "<matplotlib.collections.PathCollection at 0x7fa19039f3d0>"
      ]
     },
     "execution_count": 14,
     "metadata": {},
     "output_type": "execute_result"
    },
    {
     "data": {
      "image/png": "[encoded data removed]",
      "text/plain": [
       "<Figure size 432x288 with 1 Axes>"
      ]
     },
     "metadata": {
      "needs_background": "light"
     },
     "output_type": "display_data"
    }
   ],
   "source": [
    "plt.scatter(df['DP[atm]'],df['q[ml/s]'])"
   ]
  },
  {
   "cell_type": "markdown",
   "metadata": {},
   "source": [
    "### Part 2"
   ]
  },
  {
   "cell_type": "markdown",
   "metadata": {},
   "source": [
    "Matrix linear regression"
   ]
  },
  {
   "cell_type": "code",
   "execution_count": 15,
   "metadata": {},
   "outputs": [
    {
     "data": {
      "text/plain": [
       "array([0.38382154, 0.22522231])"
      ]
     },
     "execution_count": 15,
     "metadata": {},
     "output_type": "execute_result"
    }
   ],
   "source": [
    "from numpy.linalg import solve\n",
    "def OLSM(x, y):\n",
    "# returns regression coefficients\n",
    "# in ordinary least square using solve function\n",
    "# x: observations\n",
    "# y: response\n",
    "    XT = np.array([np.ones(len(x)),x], float)\n",
    "    YT = y\n",
    "    Y = np.transpose(y)\n",
    "    X = np.transpose(XT)\n",
    "    B = np.dot(XT,X)\n",
    "    C = np.dot(XT,YT)\n",
    "    return solve(B,C)\n",
    "\n",
    "OLSM(df['DP[atm]'],df['q[ml/s]'])\n"
   ]
  },
  {
   "cell_type": "code",
   "execution_count": 16,
   "metadata": {},
   "outputs": [
    {
     "data": {
      "text/plain": [
       "Text(0, 0.5, 'q [ml/s]')"
      ]
     },
     "execution_count": 16,
     "metadata": {},
     "output_type": "execute_result"
    },
    {
     "data": {
      "image/png": "[encoded data removed]",
      "text/plain": [
       "<Figure size 432x288 with 1 Axes>"
      ]
     },
     "metadata": {
      "needs_background": "light"
     },
     "output_type": "display_data"
    }
   ],
   "source": [
    "outs = OLSM(df['DP[atm]'],df['q[ml/s]'])\n",
    "xval = np.arange(0,10)\n",
    "yval = xval*outs[1] +outs[0] \n",
    "\n",
    "fig2 = plt.figure()\n",
    "ax = fig2.add_subplot()\n",
    "ax.scatter(df['DP[atm]'],df['q[ml/s]'], label = 'Data scatterplot')\n",
    "ax.plot(xval,yval, label='OLSM Regression')\n",
    "ax.legend()\n",
    "plt.title('E1 P1 Plot')\n",
    "plt.xlabel('DP[atm]')\n",
    "plt.ylabel('q [ml/s]')"
   ]
  },
  {
   "cell_type": "code",
   "execution_count": null,
   "metadata": {},
   "outputs": [],
   "source": []
  },
  {
   "cell_type": "code",
   "execution_count": null,
   "metadata": {},
   "outputs": [],
   "source": []
  },
  {
   "cell_type": "markdown",
   "metadata": {},
   "source": [
    "## Exercise 2"
   ]
  },
  {
   "cell_type": "markdown",
   "metadata": {},
   "source": [
    "### Part 1\n"
   ]
  },
  {
   "cell_type": "code",
   "execution_count": null,
   "metadata": {},
   "outputs": [],
   "source": [
    "\n",
    "        \n",
    "            "
   ]
  },
  {
   "cell_type": "code",
   "execution_count": null,
   "metadata": {},
   "outputs": [],
   "source": []
  },
  {
   "cell_type": "code",
   "execution_count": 6,
   "metadata": {},
   "outputs": [
    {
     "data": {
      "image/png": "[encoded data removed]",
      "text/plain": [
       "<Figure size 432x288 with 1 Axes>"
      ]
     },
     "metadata": {
      "needs_background": "light"
     },
     "output_type": "display_data"
    }
   ],
   "source": [
    "p = RadialDiffusivityEquationSolver(N=500)\n",
    "r_vec = np.arange(p.rw_,p.re_)\n",
    "\n",
    "p.plot_line_source_solution(10, r_vec)\n",
    "\n"
   ]
  },
  {
   "cell_type": "markdown",
   "metadata": {},
   "source": [
    "### Part 2\n",
    "\n",
    "Explanation of plot:"
   ]
  },
  {
   "cell_type": "markdown",
   "metadata": {},
   "source": [
    "### Part 3\n",
    "\n",
    "Derive the new differential equation with boundary conditions when substituting $y = ln (\\frac{r}{r_w})$:"
   ]
  },
  {
   "cell_type": "markdown",
   "metadata": {},
   "source": [
    "First we recall the differential equation and boundary conditions pre-substitution: \n",
    "\n",
    "Differential eq:\n",
    "\n",
    "\\begin{equation}\n",
    "\\frac{\\delta p}{\\delta t} = \\eta \\frac{1}{r} \\frac{\\delta}{\\delta r}(r \\frac{\\delta p}{\\delta r})\n",
    "\\end{equation}\n",
    "\n",
    "Boundary condition at $r = r_w$: \n",
    "\n",
    "\\begin{equation}\n",
    "\\frac{2 \\pi h k r}{\\mu} \\frac{\\delta p}{\\delta r} |_{r = r_w} = Q\n",
    "\\end{equation}\n",
    "\n",
    "\n",
    "Boundary condition at $r = r_e$:\n",
    "\n",
    "\\begin{equation}\n",
    "\\frac{\\delta p}{\\delta r} |_{r = r_e} = 0\n",
    "\\end{equation}"
   ]
  },
  {
   "cell_type": "markdown",
   "metadata": {},
   "source": [
    " \n",
    " #### Answer:\n",
    " \n",
    " First, we apply the chain rule to $\\frac{\\delta p}{\\delta r}$\n",
    " \\begin{equation}\n",
    " \\frac{\\delta p}{\\delta r} = \\frac{\\delta p}{\\delta y} \\frac{\\delta y}{\\delta r}\n",
    " \\end{equation}"
   ]
  },
  {
   "cell_type": "markdown",
   "metadata": {},
   "source": [
    "\\begin{equation}\n",
    "\\frac{\\delta p}{\\delta r} =  \\frac{1}{r} \\frac{\\delta p}{\\delta y} = \\frac{1}{r_w}e^{-y} \\frac{\\delta p}{\\delta y} \n",
    "\\end{equation}"
   ]
  },
  {
   "cell_type": "markdown",
   "metadata": {},
   "source": [
    "Note that from the defitnion of $y$, $r = r_w e^y$\n",
    "\n",
    "\n",
    "Then we insert into the differential: \n",
    "\n",
    "\n",
    "\\begin{equation}\n",
    "\\frac{\\delta p}{\\delta t} = \\eta \\frac{1}{r_w}e^{-y} \\frac{\\delta}{\\delta r}( r_w e^y \\frac{1}{r_w}e^{-y} \\frac{\\delta p}{\\delta y} )=\n",
    "\\end{equation}\n",
    "\n",
    "\n",
    "\\begin{equation}\n",
    "\\frac{\\delta p}{\\delta t} = \\eta \\frac{1}{r_w}e^{-y} \\frac{\\delta}{\\delta r}(\\frac{\\delta p}{\\delta y} )\n",
    "\\end{equation}"
   ]
  },
  {
   "cell_type": "markdown",
   "metadata": {},
   "source": [
    "Again, we must use the chain rule:\n",
    "\n",
    "Let $u =\\frac{\\delta p}{\\delta y}$\n",
    "\n",
    "\\begin{equation}\n",
    "\\frac{\\delta u}{\\delta r} = \\frac{\\delta u}{\\delta y} \\frac{\\delta y}{ \\delta r} = \\frac{1}{r} \\frac{\\delta u}{\\delta y} = \\frac{1}{r_w}e^{-y} \\frac{{\\delta}^2 p}{\\delta y^2}\n",
    "\\end{equation}"
   ]
  },
  {
   "cell_type": "markdown",
   "metadata": {},
   "source": [
    "Which then gives us our expression: \n",
    "\n",
    "\\begin{equation}\n",
    "\\frac{\\delta p}{\\delta t} = \\eta \\frac{1}{{r_w}^2} e^{-2y} \\frac{{\\delta}^2 p}{\\delta y^2}\n",
    "\\end{equation}"
   ]
  },
  {
   "cell_type": "markdown",
   "metadata": {},
   "source": [
    "We can then turn our attention to the boundary coondition at $r = r_w$:\n",
    "\n",
    "\\begin{equation}\n",
    "\\frac{2 \\pi h k r}{\\mu} \\frac{\\delta p}{\\delta r} |_{r = r_w} = \\frac{2 \\pi h k  r_w e^y}{\\mu} \\frac{1}{r_w} e^{-y} \\frac{\\delta p}{\\delta y} |_{y = y_w} = \\frac{2 \\pi h k}{\\mu} \\frac{\\delta p}{\\delta y} |_{y = y_w} = Q\n",
    "\\end{equation}\n",
    "\n",
    "Which can be rewritten as:\n",
    "\n",
    "\\begin{equation}\n",
    "\\frac{\\delta p}{\\delta y} |_{y = y_w} = \\frac{Q \\mu }{2 \\pi h k}\n",
    "\\end{equation}"
   ]
  },
  {
   "cell_type": "markdown",
   "metadata": {},
   "source": [
    "Finally, the boundary condition at $r = r_w$\n",
    "\n",
    "\\begin{equation}\n",
    "\\frac{\\delta p}{\\delta r} |_{r = r_e} = \\frac{1}{r_w}e^{-y} \\frac{\\delta p}{\\delta y} |_{y = y_e} =0 \n",
    "\\end{equation}\n",
    "\n"
   ]
  },
  {
   "cell_type": "markdown",
   "metadata": {},
   "source": [
    "Which implies:\n",
    "\\begin{equation}\n",
    "\\frac{\\delta p}{\\delta y} |_{y = y_e} =0 \n",
    "\\end{equation}"
   ]
  },
  {
   "cell_type": "markdown",
   "metadata": {},
   "source": [
    "### Part 4"
   ]
  },
  {
   "cell_type": "code",
   "execution_count": 7,
   "metadata": {},
   "outputs": [],
   "source": [
    "attempt = RadialDiffusivityEquationSolver(N=50)"
   ]
  },
  {
   "cell_type": "code",
   "execution_count": 8,
   "metadata": {},
   "outputs": [],
   "source": [
    "N =50\n",
    "y_w = 0\n",
    "y_e = np.log(attempt.re_/attempt.rw_)\n",
    "y = np.linspace(y_w, y_e, num =N)\n",
    "dy = np.linspace(y_w,y_e, num =N, retstep = True)[1]\n",
    "y_mids = np.linspace(y_w+0.5*dy, y_e, N)\n",
    "#print(y_mids, y)\n",
    "r_from_mids = attempt.rw_*np.exp(y_mids)\n",
    "#print(r_from_mids)\n",
    "\n",
    "\n"
   ]
  },
  {
   "cell_type": "code",
   "execution_count": 9,
   "metadata": {
    "scrolled": true
   },
   "outputs": [
    {
     "data": {
      "image/png": "[encoded data removed]",
      "text/plain": [
       "<Figure size 432x288 with 1 Axes>"
      ]
     },
     "metadata": {
      "needs_background": "light"
     },
     "output_type": "display_data"
    }
   ],
   "source": [
    "attempt.plot_line_source_solution(10, r_from_mids)\n"
   ]
  },
  {
   "cell_type": "markdown",
   "metadata": {},
   "source": [
    "We get the same plot as we've previously seen so i guess it's correct?"
   ]
  },
  {
   "cell_type": "code",
   "execution_count": null,
   "metadata": {},
   "outputs": [],
   "source": []
  },
  {
   "cell_type": "code",
   "execution_count": null,
   "metadata": {},
   "outputs": [],
   "source": []
  },
  {
   "cell_type": "markdown",
   "metadata": {},
   "source": [
    "### Part 5\n"
   ]
  },
  {
   "cell_type": "markdown",
   "metadata": {},
   "source": [
    "Suppose that we solve the equation using the discrete solution: \n",
    "\n",
    "\\begin{equation}\n",
    "\\frac{p_i^{n+1} - p_i^{n}}{\\Delta t} = \\eta \\frac{e^{-2 y_i}}{r_w^2} \\frac{p_{i+1}^{n+1} + p_{i-1}^{n+1}-2 p_{i}^{n+1}}{\\Delta y^2}\n",
    "\\end{equation}"
   ]
  },
  {
   "cell_type": "markdown",
   "metadata": {},
   "source": [
    "With $N = 4$ grid points. "
   ]
  },
  {
   "cell_type": "markdown",
   "metadata": {},
   "source": [
    "#### Answer:\n",
    "\n",
    "$i = 0$\n",
    "\\begin{equation}\n",
    "\\frac{p_0^{n+1} - p_0^{n}}{\\Delta t} = \\eta \\frac{e^{-2 y_0}}{r_w^2} \\frac{p_{1}^{n+1} + p_{-1}^{n+1}-2 p_{0}^{n+1}}{\\Delta y^2}\n",
    "\\end{equation}\n",
    "\n",
    "\n",
    "$i = 1$\n",
    "\\begin{equation}\n",
    "\\frac{p_1^{n+1} - p_1^{n}}{\\Delta t} = \\eta \\frac{e^{-2 y_1}}{r_w^2} \\frac{p_{2}^{n+1} + p_{0}^{n+1}-2 p_{1}^{n+1}}{\\Delta y^2}\n",
    "\\end{equation}\n",
    "\n",
    "$i = 2$\n",
    "\\begin{equation}\n",
    "\\frac{p_2^{n+1} - p_2^{n}}{\\Delta t} = \\eta \\frac{e^{-2 y_2}}{r_w^2} \\frac{p_{3}^{n+1} + p_{1}^{n+1}-2 p_{2}^{n+1}}{\\Delta y^2}\n",
    "\\end{equation}\n",
    "\n",
    "$i = 3$\n",
    "\\begin{equation}\n",
    "\\frac{p_3^{n+1} - p_3^{n}}{\\Delta t} = \\eta \\frac{e^{-2 y_3}}{r_w^2} \\frac{p_{4}^{n+1} + p_{2}^{n+1}-2 p_{3}^{n+1}}{\\Delta y^2}\n",
    "\\end{equation}\n",
    "\n"
   ]
  },
  {
   "cell_type": "markdown",
   "metadata": {},
   "source": []
  },
  {
   "cell_type": "markdown",
   "metadata": {},
   "source": [
    "### Part 6"
   ]
  },
  {
   "cell_type": "markdown",
   "metadata": {},
   "source": [
    "To get rid of the out of range values of $p_{-1}$ and $p_4$, we employ the (second order) finite difference approximation at the boundaries:\n",
    "\n",
    "\n",
    "\n",
    "First order discrete difference equation: \n",
    "\\begin{equation}\n",
    "\\frac{\\partial p}{\\partial t} =\n",
    "\\frac{p(y_i, t+\\Delta t)-p(y_i, t)}{\\Delta t} + \\mathcal{O}(\\Delta t)\n",
    "\\equiv \\frac{p_{i}^{n+1}-p_{i}^n}{\\Delta t} + \\mathcal{O}(\\Delta t).\n",
    "\\end{equation}\n",
    "\n",
    "and also:\n",
    "\\begin{equation}\n",
    "\\frac{\\partial p}{\\partial y} =\n",
    "\\frac{p_{i+1}^{n+1}-p_{i}^{n+1}}{\\Delta y} + \\mathcal{O}(\\Delta y).\n",
    "\\end{equation}\n",
    "\n",
    "(where we utilize ($p_i^{n+1}$, the solution at $(t+ \\Delta t)$ as the implicit scheme)\n",
    "\n",
    "\n",
    "\n",
    "\n"
   ]
  },
  {
   "cell_type": "markdown",
   "metadata": {},
   "source": [
    "#### Boundary condition at $y = y_e$:\n",
    "$$\n",
    "\\frac{\\delta p}{\\delta y} |_{y = y_e} =0 \n",
    "$$\n",
    "\n",
    "Which then gives: \n",
    "\\begin{equation}\n",
    "\\frac{p_4^{n+1}-p_{3}^{n+1}}{\\Delta y} + \\mathcal{O}(\\Delta y) = 0\n",
    "\\end{equation}\n",
    "\n"
   ]
  },
  {
   "cell_type": "markdown",
   "metadata": {},
   "source": [
    "Assuming that $\\mathcal{O}(\\Delta y)$ approaches zero, we get the condition: $p_4^{n+1}=p_{3}^{n+1}$"
   ]
  },
  {
   "cell_type": "markdown",
   "metadata": {},
   "source": [
    "#### Boundary condition at $y = y_w$:\n"
   ]
  },
  {
   "cell_type": "markdown",
   "metadata": {},
   "source": [
    "\\begin{equation}\n",
    "\\frac{\\delta p}{\\delta y} |_{y = y_w} = \\frac{Q \\mu }{2 \\pi h k}\n",
    "\\end{equation}"
   ]
  },
  {
   "cell_type": "markdown",
   "metadata": {},
   "source": [
    "Consider the differential at i = -1. \n",
    "\n",
    "\\begin{equation}\n",
    "\\frac{p_0^{n+1} - p_{-1}^{n+1}}{\\Delta y} = \\frac{Q \\mu }{2 \\pi h k}\n",
    "\\end{equation} "
   ]
  },
  {
   "cell_type": "markdown",
   "metadata": {},
   "source": [
    "Which gives us:\n",
    "\\begin{equation}\n",
    "p_{-1}^{n+1} = p_0^{n+1} - \\frac{Q \\mu \\Delta y}{2 \\pi h k } = p_0^{n+1} - \\beta \n",
    "\\end{equation}"
   ]
  },
  {
   "cell_type": "markdown",
   "metadata": {},
   "source": [
    "#### Inserting:"
   ]
  },
  {
   "cell_type": "markdown",
   "metadata": {},
   "source": [
    "Note, we define:\n",
    "$$\n",
    "\\xi_i \\equiv \\frac{\\eta e^{-2 y_i} \\Delta{t}}{r_w^2 \\Delta{y}^2}\\,,\n",
    "$$\n",
    "\n",
    "Inserting our expression at $i = 0$:\n",
    "\n",
    "\\begin{equation}\n",
    "p_0^{n+1} - p_0^{n} = \\xi_0 (p_{1}^{n+1} + p_{-1}^{n+1}-2 p_{0}^{n+1})\n",
    "\\end{equation}\n"
   ]
  },
  {
   "cell_type": "markdown",
   "metadata": {},
   "source": [
    "\n",
    "\n",
    "\\begin{equation}\n",
    "p_0^{n+1} - p_0^{n} = \\xi_0 (p_{1}^{n+1} +p_0^{n+1} - \\beta  + p_{0}^{n+1} -2 p_{0}^{n+1})\n",
    "\\end{equation}\n"
   ]
  },
  {
   "cell_type": "markdown",
   "metadata": {},
   "source": [
    "\n",
    "\\begin{equation}\n",
    "p_0^{n+1}(1+\\xi_0)  - \\xi_0 p_1^{n+1} = p_0^n - \\xi_0 \\beta \n",
    "\\end{equation} \n"
   ]
  },
  {
   "cell_type": "markdown",
   "metadata": {},
   "source": [
    "$i = 1$\n",
    "\n",
    "\n",
    "\\begin{equation}\n",
    "p_1^{n+1} - p_1^{n} = \\xi_1 (p_{2}^{n+1} + p_{0}^{n+1}-2 p_{1}^{n+1})\n",
    "\\end{equation}\n"
   ]
  },
  {
   "cell_type": "markdown",
   "metadata": {},
   "source": [
    "$\\rightarrow$\n",
    "\\begin{equation}\n",
    " -\\xi_1 p_0^{n+1} +(1+2\\xi_1)p_1^{n+1} - \\xi_1 p_2^{n+1}= p_1^n \n",
    "\\end{equation}\n"
   ]
  },
  {
   "cell_type": "markdown",
   "metadata": {},
   "source": [
    "$i = 2$\n",
    "\n",
    "\n",
    "\\begin{equation}\n",
    "p_2^{n+1} - p_2^{n} = \\xi_2 (p_{3}^{n+1} + p_{1}^{n+1}-2 p_{2}^{n+1})\n",
    "\\end{equation}\n"
   ]
  },
  {
   "cell_type": "markdown",
   "metadata": {},
   "source": [
    "$\\rightarrow$\n",
    "\\begin{equation}\n",
    " -\\xi_2 p_2^{n+1} +(1+2\\xi_2)p_2^{n+1} - \\xi_2 p_3^{n+1}= p_2^n \n",
    "\\end{equation}\n"
   ]
  },
  {
   "cell_type": "markdown",
   "metadata": {},
   "source": [
    "$i = 3$\n",
    "\n",
    "\n",
    "\\begin{equation}\n",
    "p_3^{n+1} - p_3^{n} = \\xi_3 (p_{4}^{n+1} + p_{2}^{n+1}-2 p_{3}^{n+1})\n",
    "\\end{equation}"
   ]
  },
  {
   "cell_type": "markdown",
   "metadata": {},
   "source": [
    "$\\rightarrow$\n",
    "\\begin{equation}\n",
    "p_3^{n+1} - p_3^{n} = \\xi_3 (p_{3}^{n+1} + p_{2}^{n+1}-2 p_{3}^{n+1})\n",
    "\\end{equation}"
   ]
  },
  {
   "cell_type": "markdown",
   "metadata": {},
   "source": [
    "$\\rightarrow$\n",
    "\\begin{equation}\n",
    "-\\xi_3 p_2^{n+1} +(1+\\xi_3) p_3^{n+1} = p_3^n\n",
    "\\end{equation}"
   ]
  },
  {
   "cell_type": "markdown",
   "metadata": {},
   "source": [
    "These expressions can then be converted to matrix form: \n",
    "    \n",
    "\\begin{equation}\n",
    "\\begin{pmatrix}\n",
    "1+\\xi_0&-\\xi_0&0&0\\\\ \n",
    "-\\xi_1&1+2\\xi_1&-\\xi_1&0\\\\ \n",
    "0&-\\xi_2&1+2\\xi_2&-\\xi_2\\\\ \n",
    "0&0&-\\xi_3&1+\\xi_3\\\\ \n",
    "\\end{pmatrix}\n",
    "\\begin{pmatrix}\n",
    "p_0^{n+1}\\\\ \n",
    "p_1^{n+1}\\\\ \n",
    "p_2^{n+1}\\\\ \n",
    "p_3^{n+1}\\\\ \n",
    "\\end{pmatrix}\n",
    "=\n",
    "\\begin{pmatrix} \n",
    "p_0^{n}-\\xi_0\\beta\\\\ \n",
    "p_1^{n}\\\\ \n",
    "p_2^{n}\\\\ \n",
    "p_3^{n}\\\\ \n",
    "\\end{pmatrix}\n",
    "\\end{equation}"
   ]
  },
  {
   "cell_type": "code",
   "execution_count": null,
   "metadata": {},
   "outputs": [],
   "source": []
  },
  {
   "cell_type": "markdown",
   "metadata": {},
   "source": [
    "## Exercise 3"
   ]
  },
  {
   "cell_type": "markdown",
   "metadata": {},
   "source": [
    "### Part 1"
   ]
  },
  {
   "cell_type": "code",
   "execution_count": null,
   "metadata": {},
   "outputs": [],
   "source": []
  },
  {
   "cell_type": "code",
   "execution_count": 47,
   "metadata": {},
   "outputs": [
    {
     "name": "stdout",
     "output_type": "stream",
     "text": [
      "61.5 ms ± 797 µs per loop (mean ± std. dev. of 7 runs, 10 loops each)\n",
      "61 ms ± 731 µs per loop (mean ± std. dev. of 7 runs, 10 loops each)\n"
     ]
    },
    {
     "data": {
      "image/png": "[encoded data removed]",
      "text/plain": [
       "<Figure size 432x288 with 1 Axes>"
      ]
     },
     "metadata": {
      "needs_background": "light"
     },
     "output_type": "display_data"
    },
    {
     "data": {
      "image/png": "[encoded data removed]",
      "text/plain": [
       "<Figure size 432x288 with 1 Axes>"
      ]
     },
     "metadata": {
      "needs_background": "light"
     },
     "output_type": "display_data"
    }
   ],
   "source": [
    "some_instance = RadialDiffusivityEquationSolver(2)\n",
    "\n",
    "some_instance.top_level(10, sparse = 'False')\n",
    "\n"
   ]
  },
  {
   "cell_type": "markdown",
   "metadata": {},
   "source": [
    "As we can see, the Numerical solution is not excactly the same, and the numerical implementations are relativley close, with a slight advantage for the normal matrix solution. \n",
    "\n"
   ]
  },
  {
   "cell_type": "code",
   "execution_count": null,
   "metadata": {},
   "outputs": [],
   "source": [
    "data/well_test.dat"
   ]
  },
  {
   "cell_type": "markdown",
   "metadata": {},
   "source": [
    "## Exercise 4"
   ]
  },
  {
   "cell_type": "markdown",
   "metadata": {},
   "source": [
    "### Part 1"
   ]
  },
  {
   "cell_type": "code",
   "execution_count": 37,
   "metadata": {},
   "outputs": [
    {
     "name": "stdout",
     "output_type": "stream",
     "text": [
      "    time  well_pressure\n",
      "0      0           1900\n",
      "1     10           1849\n",
      "2     20           1784\n",
      "3     40           1726\n",
      "4     80           1661\n",
      "5    150           1595\n",
      "6    300           1508\n",
      "7    500           1421\n",
      "8    800           1320\n",
      "9   1200           1211\n",
      "10  1500           1131\n",
      "11  2000            986\n",
      "12  2500            856\n",
      "13  3000            718\n"
     ]
    }
   ],
   "source": [
    "df2 = pd.read_csv('data/well_test.dat', skiprows=3, sep = '\\t')\n",
    "print(df2)"
   ]
  },
  {
   "cell_type": "code",
   "execution_count": 38,
   "metadata": {},
   "outputs": [
    {
     "data": {
      "text/plain": [
       "<matplotlib.collections.PathCollection at 0x7fa190d58050>"
      ]
     },
     "execution_count": 38,
     "metadata": {},
     "output_type": "execute_result"
    },
    {
     "data": {
      "image/png": "[encoded data removed]",
      "text/plain": [
       "<Figure size 432x288 with 1 Axes>"
      ]
     },
     "metadata": {
      "needs_background": "light"
     },
     "output_type": "display_data"
    }
   ],
   "source": [
    "plt.scatter(df2['time'], df2['well_pressure'])"
   ]
  },
  {
   "cell_type": "markdown",
   "metadata": {},
   "source": [
    "We can see a distinct large initial decrease of preassure which seamingly develops into a more linear decrease. "
   ]
  },
  {
   "cell_type": "markdown",
   "metadata": {},
   "source": [
    "### Part 2"
   ]
  },
  {
   "cell_type": "markdown",
   "metadata": {},
   "source": [
    "\\begin{equation}\n",
    "\\frac{\\delta p}{\\delta y} |_{y = y_w} = \\frac{Q \\mu }{2 \\pi h k}\n",
    "\\end{equation}\n",
    "\n",
    "first order discrete approximation with ($h =\\Delta y /2$): \n",
    "\n",
    "\\begin{equation}\n",
    "\\frac{p^{n+1}_0 -p^{n+1}_w}{\\Delta y /2} = \\frac{Q \\mu }{2 \\pi h k}\n",
    "\\end{equation}\n",
    "\n",
    "\\begin{equation}\n",
    " p^{n+1}_w = p^{n+1}_0 -\\frac{Q \\mu \\Delta y }{ 4\\pi h k}\n",
    "\\end{equation}"
   ]
  },
  {
   "cell_type": "code",
   "execution_count": null,
   "metadata": {},
   "outputs": [],
   "source": []
  }
 ],
 "metadata": {
  "kernelspec": {
   "display_name": "Python 3",
   "language": "python",
   "name": "python3"
  },
  "language_info": {
   "codemirror_mode": {
    "name": "ipython",
    "version": 3
   },
   "file_extension": ".py",
   "mimetype": "text/x-python",
   "name": "python",
   "nbconvert_exporter": "python",
   "pygments_lexer": "ipython3",
   "version": "3.7.4"
  }
 },
 "nbformat": 4,
 "nbformat_minor": 2
}
