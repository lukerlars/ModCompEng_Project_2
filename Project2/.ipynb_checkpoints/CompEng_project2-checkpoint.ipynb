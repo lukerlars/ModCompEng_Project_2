{
 "cells": [
  {
   "cell_type": "markdown",
   "metadata": {},
   "source": [
    "# Modelling and Computational Engineering Project 2\n"
   ]
  },
  {
   "cell_type": "code",
   "execution_count": null,
   "metadata": {},
   "outputs": [],
   "source": []
  },
  {
   "cell_type": "code",
   "execution_count": null,
   "metadata": {},
   "outputs": [],
   "source": []
  },
  {
   "cell_type": "code",
   "execution_count": null,
   "metadata": {},
   "outputs": [],
   "source": []
  },
  {
   "cell_type": "code",
   "execution_count": 1,
   "metadata": {},
   "outputs": [],
   "source": [
    "import pandas as pd\n",
    "import numpy as np\n",
    "import matplotlib.pyplot as plt\n",
    "import scipy.special as sc\n",
    "import scipy.sparse.linalg\n",
    "import scipy \n",
    "\n",
    "\n",
    "%matplotlib inline"
   ]
  },
  {
   "cell_type": "code",
   "execution_count": 8,
   "metadata": {},
   "outputs": [],
   "source": [
    "class RadialDiffusivityEquationSolver:\n",
    "    \"\"\"\n",
    "    A finite difference solver for the radial diffusivity equation.\n",
    "    We use the coordinate transformation y = ln(r/rw) to set up and\n",
    "    solve the pressure equation.\n",
    "\n",
    "    The solver uses SI units internally, while \"practical field units\"\n",
    "    are required as input.\n",
    "\n",
    "    Except for the number of grid blocks / points to use, all class\n",
    "    instance attributes are provided with reasonable default values.\n",
    "\n",
    "    Input arguments:\n",
    "\n",
    "        name                                symbol      unit\n",
    "        --------------------------------------------------------------\n",
    "        Number of grid points                N          dimensionless\n",
    "        well radius                          rw         ft\n",
    "        extent of reservoir                  re         ft\n",
    "        height of reservoir                  h          ft\n",
    "        permeability                         k          mD\n",
    "        porosity                             phi        dimensionless\n",
    "        fluid viscosity                      mu         mPas (cP)\n",
    "        total compressibility                ct         1 / psi\n",
    "        constant flow rate at well           Q          bbl / day\n",
    "        initial reservoir pressure           pi         psi\n",
    "        constant time step                   dt         days\n",
    "        maximal simulation time          max_time       days\n",
    "        -------------------------------------------------------------\n",
    "    \"\"\"\n",
    "\n",
    "    def __init__(self, N, rw=0.328, re = 100000., h=8.0,\n",
    "                 k=500, phi=0.1, mu=1.0, ct=17.7e-6,\n",
    "                 Q=1000, pi=2000, dt=0.1, max_time=10):\n",
    "\n",
    "        # Unit conversion factors (input units --> SI)\n",
    "        self.ft_to_m_ = 0.3048\n",
    "        self.psi_to_pa_ = 6894.75729\n",
    "        self.day_to_sec_ = 24*60*60\n",
    "        self.bbl_to_m3_ = 0.1589873\n",
    "\n",
    "        # Grid\n",
    "        self.N_ = N\n",
    "        self.rw_ = rw*self.ft_to_m_\n",
    "        self.re_ = re*self.ft_to_m_\n",
    "        self.h_ = h*self.ft_to_m_\n",
    "\n",
    "        # Rock and fluid properties\n",
    "        self.k_ = k*1e-15 / 1.01325\n",
    "        self.phi_ = phi\n",
    "        self.mu_ = mu*1e-3\n",
    "        self.ct_ = ct / self.psi_to_pa_\n",
    "        self.eta_ = self.k_/(self.mu_*self.phi_*self.ct_)\n",
    "\n",
    "        # Initial and boundary conditions\n",
    "        self.Q_ = Q*self.bbl_to_m3_ / self.day_to_sec_\n",
    "        self.pi_ = pi*self.psi_to_pa_\n",
    "\n",
    "        # Time control for simulation\n",
    "        self.dt_ = dt*self.day_to_sec_\n",
    "        self.max_time_ = max_time*self.day_to_sec_\n",
    "        self.current_time_ = max_time*self.day_to_sec_\n",
    "        self.current_time_rounded_ = int(round(self.current_time_))          #np.arange (used below) does not like non-integer steps. \n",
    "        self.time_steps_ = np.arange(1,self.current_time_rounded_, self.dt_) #Analytical solution not defined for t =0\n",
    "            \n",
    "        # Part4, Discrete midpoints\n",
    "        self.yw_ = 0\n",
    "        self.ye_ = np.log(self.re_/self.rw_)\n",
    "        self.dy_ = (self.ye_-self.yw_)/self.N_\n",
    "        self.y0_ = self.yw_ + 0.5*self.dy_\n",
    "        self.y_mids = np.linspace(self.y0_,self.ye_ - 0.5*self.dy_, self.N_)\n",
    "        self.r_from_mids = self.rw_*np.exp(self.y_mids)\n",
    "        \n",
    "        #Diffusivity beta\n",
    "        self.beta_ = (self.Q_*self.mu_*self.dy_)/(2*np.pi*self.k_*self.h_)\n",
    "        \n",
    "        #Well pressure \"global?\"\n",
    "        self.p0_ =[]\n",
    "        self.pw_=[] # Not used??\n",
    "        \n",
    "        \n",
    "    \n",
    "        \n",
    "    def line_source_solution(self, t, r):\n",
    "        return self.pi_ + ((self.Q_*self.mu_)/(4*np.pi*self.k_*self.h_))*sc.expi(-(r**2)/(4*self.eta_*t)) \n",
    "   \n",
    "    def xi(self,y_i):\n",
    "        \"\"\"Function that calculates xi coefficient of y_i input\"\"\"\n",
    "        return self.eta_*np.exp(-2*y_i)*self.dt_/((self.rw_*self.dy_)**2)   \n",
    "     \n",
    "    def setup_matrix(self):\n",
    "        \"\"\"Function that \"sets up\" a matrix by storing the coefficients of the linear difference equations\n",
    "        over the time steps and grid points.\"\"\"\n",
    "        \n",
    "        matrix = np.zeros((self.N_,self.N_))\n",
    "        \n",
    "        #First and last row\n",
    "        matrix[0][0] = 1 + self.xi(self.y_mids[0])\n",
    "        matrix[0][1] = - self.xi(self.y_mids[0])\n",
    "        matrix[self.N_-1][self.N_-1] = 1 + self.xi(self.y_mids[self.N_-1])\n",
    "        matrix[self.N_-1][self.N_-2] = -self.xi(self.y_mids[self.N_-1])\n",
    "        \n",
    "        #Mid-rows\n",
    "        for index in range(self.N_):\n",
    "            if index == 0 or index == (self.N_ -1):\n",
    "                pass\n",
    "            else:\n",
    "                matrix[index][index-1] = -self.xi(self.y_mids[index])\n",
    "                matrix[index][index] = 1 + 2*self.xi(self.y_mids[index])\n",
    "                matrix[index][index+1] = -self.xi(self.y_mids[index])\n",
    "        \n",
    "        return(matrix)\n",
    "   \n",
    "    \n",
    "    def setup_sparse_matrix(self):\n",
    "        \"\"\" function that stores diagonal entries and sets up a sparce matrix\"\"\"\n",
    "        \n",
    "        main_diag =[1 + 2*self.xi(y) for y in self.y_mids]    #list comprehension assigns 1 +2*eta, to all diag-entries\n",
    "        main_diag[0] = 1 + self.xi(self.y_mids[0])            #correcting first and last row\n",
    "        main_diag[self.N_-1] = 1+ self.xi(self.y_mids[self.N_-1])\n",
    "        over_diag = [-self.xi(y) for y in self.y_mids if y != self.y_mids[self.N_-1]]\n",
    "        under_diag =[-self.xi(y) for y in self.y_mids if y != self.y_mids[0]]\n",
    "       \n",
    "        diagonals = [main_diag, over_diag, under_diag]\n",
    "        sparse_matrix = scipy.sparse.diags(diagonals, [0, 1,-1], format ='csc')\n",
    "        \n",
    "        return sparse_matrix\n",
    "        \n",
    "    def rhs(self, p_vec):\n",
    "        \"\"\"Function that returns the right hand side of the vector equation\"\"\"\n",
    "        p_vec[0] = p_vec[0] - self.xi(self.y_mids[0])*self.beta_\n",
    "        return p_vec\n",
    "        \n",
    "               \n",
    "    def top_level(self, sparse = 'True'):\n",
    "        \"\"\"top level function for executing simulation\"\"\"\n",
    "        \n",
    "        p_vec=self.N_*[self.pi_]        #initial pressure vector\n",
    "        self.p0_ =[] \n",
    "        \n",
    "        if sparse == 'True':\n",
    "            matrix = self.setup_sparse_matrix()\n",
    "            for i in (self.time_steps_):          #n from range (0,t) with stepsize dt: apply sparse solve n times. \n",
    "                self.p0_.append(p_vec[0])\n",
    "                p_vec = self.rhs(p_vec)\n",
    "                p_vec = scipy.sparse.linalg.spsolve(matrix,p_vec)\n",
    "                \n",
    "        else:\n",
    "            matrix = self.setup_matrix()\n",
    "            inverted_matrix = np.linalg.inv(matrix)\n",
    "            for i in (self.time_steps_):  #n from range (0,t) with stepsize dt: apply invere matrix-mult n times. \n",
    "                self.p0_.append(p_vec[0])\n",
    "                p_vec = self.rhs(p_vec)\n",
    "                p_vec = np.matmul(inverted_matrix,p_vec)\n",
    "           \n",
    "        return(p_vec)\n",
    "    \n",
    "    def well_pressure_function(self,sparse='True'):\n",
    "        self.top_level(self.max_time_)    #run top level to set p0_at_t to the values of p0 at time t.\n",
    "        p_w = [p -0.5*self.beta_ for p in self.p0_ ]\n",
    "        return p_w\n",
    "    \n",
    "    \n",
    "    def plot_line_source_solution(self, t, r):\n",
    "        resultant_pressure= self.line_source_solution(t, r)\n",
    "        figure = plt.figure()\n",
    "        plot = figure.add_subplot()\n",
    "        plot.plot(r, resultant_pressure)\n",
    "        plot.set_title('Plot of analytical solution ')\n",
    "        plot.set_xscale('log')\n",
    "        plt.xlabel('Radial distance from line source Log-scaled')\n",
    "        plt.ylabel('Pressure [Pa]')\n",
    "     \n",
    "    def plot_numerical_solution(self,sparse ='True'):\n",
    "        num_out = self.top_level(sparse)    \n",
    "        figure31 = plt.figure()\n",
    "        plot31 = figure31.add_subplot()\n",
    "        plot31.plot(self.r_from_mids, num_out , label = 'Numerical solution')\n",
    "        plot31.set_xscale('log')\n",
    "        plot31.set_title('Numerical solution')\n",
    "        plt.xlabel('Radial distance from line source')\n",
    "        plt.ylabel('Pressure [Pa], Calculated Numerically')\n",
    "    \n",
    "        \n",
    "    def plot_all_of_them(self, file_x, file_y):\n",
    "        numeric_out = self.well_pressure_function()\n",
    "        num_out_psi = np.array(numeric_out)*self.psi_to_pa_**(-1)\n",
    "        analytic_out = self.line_source_solution(self.time_steps_, self.rw_)\n",
    "        analytic_out_psi = np.array(analytic_out)*self.psi_to_pa_**(-1)\n",
    "        \n",
    "        num_out_psi = num_out_psi[1:]\n",
    "        analytic_out_psi = analytic_out_psi[1:]\n",
    "        time_without_first = self.time_steps_[1:]\n",
    "        \n",
    "        grand_figure = plt.figure()\n",
    "        sub = grand_figure.add_subplot()\n",
    "        sub.scatter(time_without_first/(self.day_to_sec_/(60**2)), num_out_psi, label ='Numerical solution PSI??')\n",
    "        sub.scatter(time_without_first/(self.day_to_sec_/60**2), analytic_out_psi, label ='Analytical solution PSI???')\n",
    "        sub.scatter(file_x, file_y, label = 'Plot of data PSII???')\n",
    "        sub.grid('True')\n",
    "        sub.legend()\n",
    "        sub.set_xscale('log')\n",
    "        sub.set_title('One plot to rule them all')\n",
    "        plt.xlabel('Time in hours, log-scaled')\n",
    "        plt.ylabel('Pressure [Psi???], Calculated Numerically in every conceivable way')"
   ]
  },
  {
   "cell_type": "code",
   "execution_count": 9,
   "metadata": {
    "scrolled": true
   },
   "outputs": [
    {
     "data": {
      "image/png": "[encoded data removed]",
      "text/plain": [
       "<Figure size 432x288 with 1 Axes>"
      ]
     },
     "metadata": {
      "needs_background": "light"
     },
     "output_type": "display_data"
    }
   ],
   "source": [
    "\n",
    "\n",
    "testing = RadialDiffusivityEquationSolver(100)\n",
    "\n",
    "testing.plot_line_source_solution(10, testing.r_from_mids)\n",
    "\n",
    "\n",
    "\n"
   ]
  },
  {
   "cell_type": "markdown",
   "metadata": {},
   "source": [
    "##  Exercise 1\n",
    "\n",
    "In this exercise we attempt to gain some understanding how Darcy's law applies to fluid flow through a porous medium. This exercise was given along wiith a data-file containing data from a single- sylindrical core flooding experiment.\n",
    "\n",
    "Darcys law is defined as:\n",
    "$$\n",
    "\\begin{equation}\n",
    "\\textbf{u} = - \\frac{\\textbf{k}}{\\mu}\\nabla p \\,,\n",
    "\\tag{1}\n",
    "\\end{equation}\n",
    "$$\n",
    "\n"
   ]
  },
  {
   "cell_type": "markdown",
   "metadata": {},
   "source": [
    "### Part 1\n",
    "Given the data from the flooding experiment, we import the data and create a plot of recorded change in pressure $\\Delta P$ vs fluid flow $Q$\n"
   ]
  },
  {
   "cell_type": "code",
   "execution_count": 216,
   "metadata": {},
   "outputs": [],
   "source": [
    "df = pd.read_csv('data/perm_data.dat', skiprows=4, sep = '\\t')"
   ]
  },
  {
   "cell_type": "code",
   "execution_count": 33,
   "metadata": {},
   "outputs": [
    {
     "name": "stdout",
     "output_type": "stream",
     "text": [
      "   q[ml/s]  DP[atm]\n",
      "0      0.1    0.396\n",
      "1      0.2    0.170\n",
      "2      0.3    0.720\n",
      "3      0.6    0.369\n",
      "4      1.0    1.406\n",
      "5      1.5    2.318\n",
      "6      2.0    8.000\n"
     ]
    }
   ],
   "source": [
    "print(df)"
   ]
  },
  {
   "cell_type": "code",
   "execution_count": 236,
   "metadata": {},
   "outputs": [
    {
     "data": {
      "text/plain": [
       "Text(0.5, 1.0, 'Scatterplot of pressure difference vs flow rate')"
      ]
     },
     "execution_count": 236,
     "metadata": {},
     "output_type": "execute_result"
    },
    {
     "data": {
      "image/png": "[encoded data removed]",
      "text/plain": [
       "<Figure size 432x288 with 1 Axes>"
      ]
     },
     "metadata": {
      "needs_background": "light"
     },
     "output_type": "display_data"
    }
   ],
   "source": [
    "E1P1_Pressure_v_flow_plot = plt.figure()\n",
    "e1plot = E1P1_Pressure_v_flow_plot.add_subplot()\n",
    "e1plot.scatter(df['q[ml/s]'],df['DP[atm]'])\n",
    "plt.xlabel('Volumetric fluid flow [ml/s]')\n",
    "plt.ylabel('Change in pressure [atm]')\n",
    "e1plot.set_title('Scatterplot of pressure difference vs flow rate')"
   ]
  },
  {
   "cell_type": "markdown",
   "metadata": {},
   "source": [
    "### Part 2"
   ]
  },
  {
   "cell_type": "markdown",
   "metadata": {},
   "source": [
    "We recall that that the test is perfromed by injecting a constant volumetric flow through a homogenous cylindrical sample. In this case, Darcy's law simplifies to: \n",
    "$$\n",
    "\\begin{equation}\n",
    "Q = \\frac{kA}{\\mu}\\cdot\\frac{\\Delta{P}}{L}\\,,\n",
    "\\tag{2}\n",
    "\\end{equation}\n",
    "$$\n",
    "\n",
    "Which can be rewritten as: \n",
    "\n",
    "$$\n",
    "\\begin{equation}\n",
    "\\Delta{P} = \\frac{\\mu L}{k A}\\cdot Q,\n",
    "\\tag{2}\n",
    "\\end{equation}\n",
    "$$\n",
    "\n",
    "Given the experimental data, we are interested in estimating the permeability $k$, by the means of linear regression:\n",
    "We perfrom a regression analysis of the data, and calculate the permeability from the regression slope. "
   ]
  },
  {
   "cell_type": "code",
   "execution_count": 254,
   "metadata": {},
   "outputs": [],
   "source": [
    "from numpy.linalg import solve\n",
    "def OLSM(x, y):\n",
    "    \"\"\"Function that returns regression coefficients using ordinary least square \n",
    "    linear algebra implementation\"\"\"\n",
    "    XT = np.array([np.ones(len(x)),x], float)\n",
    "    YT = y\n",
    "    Y = np.transpose(y)\n",
    "    X = np.transpose(XT)\n",
    "    B = np.dot(XT,X)\n",
    "    C = np.dot(XT,YT)\n",
    "    return solve(B,C)\n"
   ]
  },
  {
   "cell_type": "code",
   "execution_count": 272,
   "metadata": {},
   "outputs": [
    {
     "name": "stdout",
     "output_type": "stream",
     "text": [
      "Resulting permeability constant = 0.026105262688131556 [D]\n",
      "Resulting permeability constant with last datapoint omitted = 0.06233637476928357 [D]\n"
     ]
    },
    {
     "data": {
      "image/png": "[encoded data removed]",
      "text/plain": [
       "<Figure size 432x288 with 1 Axes>"
      ]
     },
     "metadata": {
      "needs_background": "light"
     },
     "output_type": "display_data"
    }
   ],
   "source": [
    "#Performing analysis and creating plot\n",
    "\n",
    "reg_coef = OLSM(df['q[ml/s]'],df['DP[atm]'])\n",
    "reg_coef_last_omitted = OLSM(df['q[ml/s]'][:6],df['DP[atm]'][:6])\n",
    "xval = np.linspace(0,2,10)\n",
    "yval = xval*reg_coef[1] +reg_coef[0]\n",
    "yval_last_omitted = xval*reg_coef_last_omitted[1] + reg_coef_last_omitted[0] \n",
    "\n",
    "\n",
    "fig2 = plt.figure()\n",
    "ax = fig2.add_subplot()\n",
    "ax.scatter(df['q[ml/s]'],df['DP[atm]'], label = 'Data scatterplot')\n",
    "ax.plot(xval,yval, label='OLSM Regression')\n",
    "ax.plot(xval, yval_last_omitted, label ='OLSM Regression when the last datapoint is omitted')\n",
    "ax.legend()\n",
    "plt.title('E1 P1 Plot')\n",
    "plt.ylabel('DP[atm]')\n",
    "plt.xlabel('q [ml/s]')\n",
    "\n",
    "print('Resulting permeability constant =', reg_coef[1]**(-1)*1/(np.pi*(3.8/2)**2), '[D]')\n",
    "print('Resulting permeability constant with last datapoint omitted =', reg_coef_last_omitted[1]**(-1)*1/(np.pi*(3.8/2)**2),'[D]')"
   ]
  },
  {
   "cell_type": "markdown",
   "metadata": {},
   "source": [
    "From this initial linear regression we obtained a slope coefficient of 3.378 which yields an estimated permeability constant $k$ of: Regression coefficient $\\cdot \\frac{A}{\\mu} \\approx 0.026 \\space [D]$ \n",
    "\n",
    "We also have some notes about the data to be considered. Note that the very last datapoint seems farther of than the preceeding points. Usually when performing regression analysis, if there are values that deviate greatly then these values are omitted from the analysis. However, one is also due to note that this dataset with a sample size of 7, contains rather few values. With a larger dataset one would gain more confidence in the sample mean, and could be more certain if some of the samples truly are outliers. With this in mind, we performed a second analysis with the last value of the sample omitted. From this analysis we obtained a permeability constant of: $k = 0.062 \\space[D]$"
   ]
  },
  {
   "cell_type": "code",
   "execution_count": null,
   "metadata": {},
   "outputs": [],
   "source": [
    "\n"
   ]
  },
  {
   "cell_type": "markdown",
   "metadata": {},
   "source": [
    "## Exercise 2\n",
    "\n",
    "In this exercise we implement python classes to create a class which acts as a numeric solver to the radial diffusivity differential equation. From this exercise onwards, the code for the implementations sought by the exercises are contained within the RadialDiffusivityEquationSolver class defined above. In the answers for the exercises we execute the relevant functions and comment on the results.   "
   ]
  },
  {
   "cell_type": "markdown",
   "metadata": {},
   "source": [
    "### Part 1\n"
   ]
  },
  {
   "cell_type": "markdown",
   "metadata": {},
   "source": [
    "In this part we constructed a simple function (within the solver class) which return the analytic solution of the radial diffusivity equation. Further, another function was implemented which calls the solver function and plots the analytical solution over the radial distance of the reservoir at a specified point in time. "
   ]
  },
  {
   "cell_type": "code",
   "execution_count": null,
   "metadata": {},
   "outputs": [],
   "source": []
  },
  {
   "cell_type": "code",
   "execution_count": 299,
   "metadata": {},
   "outputs": [
    {
     "data": {
      "image/png": "[encoded data removed]",
      "text/plain": [
       "<Figure size 432x288 with 1 Axes>"
      ]
     },
     "metadata": {
      "needs_background": "light"
     },
     "output_type": "display_data"
    }
   ],
   "source": [
    "t = 10 #days\n",
    "r_vec = np.arange(p.rw_,p.re_) #\n",
    "\n",
    "e2p1_instance = RadialDiffusivityEquationSolver(N=100)\n",
    "e2p1_instance.plot_line_source_solution(10, e2p1_instance.r_from_mids)\n",
    "\n"
   ]
  },
  {
   "cell_type": "markdown",
   "metadata": {},
   "source": [
    "### Part 2\n",
    "Explanation of plot:"
   ]
  },
  {
   "cell_type": "markdown",
   "metadata": {},
   "source": [
    "### Part 3\n",
    "\n",
    "Derive the new differential equation with boundary conditions when substituting $y = ln (\\frac{r}{r_w})$:"
   ]
  },
  {
   "cell_type": "markdown",
   "metadata": {},
   "source": [
    "First we recall the differential equation and boundary conditions pre-substitution: \n",
    "\n",
    "Differential eq:\n",
    "\n",
    "\\begin{equation}\n",
    "\\frac{\\delta p}{\\delta t} = \\eta \\frac{1}{r} \\frac{\\delta}{\\delta r}(r \\frac{\\delta p}{\\delta r})\n",
    "\\end{equation}\n",
    "\n",
    "Boundary condition at $r = r_w$: \n",
    "\n",
    "\\begin{equation}\n",
    "\\frac{2 \\pi h k r}{\\mu} \\frac{\\delta p}{\\delta r} |_{r = r_w} = Q\n",
    "\\end{equation}\n",
    "\n",
    "\n",
    "Boundary condition at $r = r_e$:\n",
    "\n",
    "\\begin{equation}\n",
    "\\frac{\\delta p}{\\delta r} |_{r = r_e} = 0\n",
    "\\end{equation}"
   ]
  },
  {
   "cell_type": "markdown",
   "metadata": {},
   "source": [
    " \n",
    " #### Answer:\n",
    " \n",
    " First, we apply the chain rule to $\\frac{\\delta p}{\\delta r}$\n",
    " \\begin{equation}\n",
    " \\frac{\\delta p}{\\delta r} = \\frac{\\delta p}{\\delta y} \\frac{\\delta y}{\\delta r}\n",
    " \\end{equation}"
   ]
  },
  {
   "cell_type": "markdown",
   "metadata": {},
   "source": [
    "\\begin{equation}\n",
    "\\frac{\\delta p}{\\delta r} =  \\frac{1}{r} \\frac{\\delta p}{\\delta y} = \\frac{1}{r_w}e^{-y} \\frac{\\delta p}{\\delta y} \n",
    "\\end{equation}"
   ]
  },
  {
   "cell_type": "markdown",
   "metadata": {},
   "source": [
    "Note that from the defitnion of $y$, $r = r_w e^y$\n",
    "\n",
    "\n",
    "Then we insert into the differential: \n",
    "\n",
    "\n",
    "\\begin{equation}\n",
    "\\frac{\\delta p}{\\delta t} = \\eta \\frac{1}{r_w}e^{-y} \\frac{\\delta}{\\delta r}( r_w e^y \\frac{1}{r_w}e^{-y} \\frac{\\delta p}{\\delta y} )=\n",
    "\\end{equation}\n",
    "\n",
    "\n",
    "\\begin{equation}\n",
    "\\frac{\\delta p}{\\delta t} = \\eta \\frac{1}{r_w}e^{-y} \\frac{\\delta}{\\delta r}(\\frac{\\delta p}{\\delta y} )\n",
    "\\end{equation}"
   ]
  },
  {
   "cell_type": "markdown",
   "metadata": {},
   "source": [
    "Again, we must use the chain rule:\n",
    "\n",
    "Let $u =\\frac{\\delta p}{\\delta y}$\n",
    "\n",
    "\\begin{equation}\n",
    "\\frac{\\delta u}{\\delta r} = \\frac{\\delta u}{\\delta y} \\frac{\\delta y}{ \\delta r} = \\frac{1}{r} \\frac{\\delta u}{\\delta y} = \\frac{1}{r_w}e^{-y} \\frac{{\\delta}^2 p}{\\delta y^2}\n",
    "\\end{equation}"
   ]
  },
  {
   "cell_type": "markdown",
   "metadata": {},
   "source": [
    "Which then gives us our expression: \n",
    "\n",
    "\\begin{equation}\n",
    "\\frac{\\delta p}{\\delta t} = \\eta \\frac{1}{{r_w}^2} e^{-2y} \\frac{{\\delta}^2 p}{\\delta y^2}\n",
    "\\end{equation}"
   ]
  },
  {
   "cell_type": "markdown",
   "metadata": {},
   "source": [
    "We can then turn our attention to the boundary coondition at $r = r_w$:\n",
    "\n",
    "\\begin{equation}\n",
    "\\frac{2 \\pi h k r}{\\mu} \\frac{\\delta p}{\\delta r} |_{r = r_w} = \\frac{2 \\pi h k  r_w e^y}{\\mu} \\frac{1}{r_w} e^{-y} \\frac{\\delta p}{\\delta y} |_{y = y_w} = \\frac{2 \\pi h k}{\\mu} \\frac{\\delta p}{\\delta y} |_{y = y_w} = Q\n",
    "\\end{equation}\n",
    "\n",
    "Which can be rewritten as:\n",
    "\n",
    "\\begin{equation}\n",
    "\\frac{\\delta p}{\\delta y} |_{y = y_w} = \\frac{Q \\mu }{2 \\pi h k}\n",
    "\\end{equation}"
   ]
  },
  {
   "cell_type": "markdown",
   "metadata": {},
   "source": [
    "Finally, the boundary condition at $r = r_w$\n",
    "\n",
    "\\begin{equation}\n",
    "\\frac{\\delta p}{\\delta r} |_{r = r_e} = \\frac{1}{r_w}e^{-y} \\frac{\\delta p}{\\delta y} |_{y = y_e} =0 \n",
    "\\end{equation}\n",
    "\n"
   ]
  },
  {
   "cell_type": "markdown",
   "metadata": {},
   "source": [
    "Which implies:\n",
    "\\begin{equation}\n",
    "\\frac{\\delta p}{\\delta y} |_{y = y_e} =0 \n",
    "\\end{equation}"
   ]
  },
  {
   "cell_type": "markdown",
   "metadata": {},
   "source": [
    "### Part 4"
   ]
  },
  {
   "cell_type": "code",
   "execution_count": 289,
   "metadata": {},
   "outputs": [],
   "source": [
    "attempt = RadialDiffusivityEquationSolver(N=50)"
   ]
  },
  {
   "cell_type": "code",
   "execution_count": 290,
   "metadata": {},
   "outputs": [],
   "source": [
    "N =50\n",
    "y_w = 0\n",
    "y_e = np.log(attempt.re_/attempt.rw_)\n",
    "y = np.linspace(y_w, y_e, num =N)\n",
    "dy = np.linspace(y_w,y_e, num =N, retstep = True)[1]\n",
    "y_mids = np.linspace(y_w+0.5*dy, y_e, N)\n",
    "#print(y_mids, y)\n",
    "r_from_mids = attempt.rw_*np.exp(y_mids)\n",
    "#print(r_from_mids)\n",
    "\n",
    "\n"
   ]
  },
  {
   "cell_type": "code",
   "execution_count": 291,
   "metadata": {
    "scrolled": true
   },
   "outputs": [
    {
     "data": {
      "image/png": "[encoded data removed]",
      "text/plain": [
       "<Figure size 432x288 with 1 Axes>"
      ]
     },
     "metadata": {
      "needs_background": "light"
     },
     "output_type": "display_data"
    }
   ],
   "source": [
    "attempt.plot_line_source_solution(10, r_from_mids) \n"
   ]
  },
  {
   "cell_type": "markdown",
   "metadata": {},
   "source": [
    "We get the same plot as we've previously seen so i guess it's correct?"
   ]
  },
  {
   "cell_type": "code",
   "execution_count": null,
   "metadata": {},
   "outputs": [],
   "source": []
  },
  {
   "cell_type": "code",
   "execution_count": null,
   "metadata": {},
   "outputs": [],
   "source": []
  },
  {
   "cell_type": "markdown",
   "metadata": {},
   "source": [
    "### Part 5\n"
   ]
  },
  {
   "cell_type": "markdown",
   "metadata": {},
   "source": [
    "Suppose that we solve the equation using the discrete solution: \n",
    "\n",
    "\\begin{equation}\n",
    "\\frac{p_i^{n+1} - p_i^{n}}{\\Delta t} = \\eta \\frac{e^{-2 y_i}}{r_w^2} \\frac{p_{i+1}^{n+1} + p_{i-1}^{n+1}-2 p_{i}^{n+1}}{\\Delta y^2}\n",
    "\\end{equation}"
   ]
  },
  {
   "cell_type": "markdown",
   "metadata": {},
   "source": [
    "With $N = 4$ grid points. "
   ]
  },
  {
   "cell_type": "markdown",
   "metadata": {},
   "source": [
    "#### Answer:\n",
    "\n",
    "$i = 0$\n",
    "\\begin{equation}\n",
    "\\frac{p_0^{n+1} - p_0^{n}}{\\Delta t} = \\eta \\frac{e^{-2 y_0}}{r_w^2} \\frac{p_{1}^{n+1} + p_{-1}^{n+1}-2 p_{0}^{n+1}}{\\Delta y^2}\n",
    "\\end{equation}\n",
    "\n",
    "\n",
    "$i = 1$\n",
    "\\begin{equation}\n",
    "\\frac{p_1^{n+1} - p_1^{n}}{\\Delta t} = \\eta \\frac{e^{-2 y_1}}{r_w^2} \\frac{p_{2}^{n+1} + p_{0}^{n+1}-2 p_{1}^{n+1}}{\\Delta y^2}\n",
    "\\end{equation}\n",
    "\n",
    "$i = 2$\n",
    "\\begin{equation}\n",
    "\\frac{p_2^{n+1} - p_2^{n}}{\\Delta t} = \\eta \\frac{e^{-2 y_2}}{r_w^2} \\frac{p_{3}^{n+1} + p_{1}^{n+1}-2 p_{2}^{n+1}}{\\Delta y^2}\n",
    "\\end{equation}\n",
    "\n",
    "$i = 3$\n",
    "\\begin{equation}\n",
    "\\frac{p_3^{n+1} - p_3^{n}}{\\Delta t} = \\eta \\frac{e^{-2 y_3}}{r_w^2} \\frac{p_{4}^{n+1} + p_{2}^{n+1}-2 p_{3}^{n+1}}{\\Delta y^2}\n",
    "\\end{equation}\n",
    "\n"
   ]
  },
  {
   "cell_type": "markdown",
   "metadata": {},
   "source": []
  },
  {
   "cell_type": "markdown",
   "metadata": {},
   "source": [
    "### Part 6"
   ]
  },
  {
   "cell_type": "markdown",
   "metadata": {},
   "source": [
    "To get rid of the out of range values of $p_{-1}$ and $p_4$, we employ the (second order) finite difference approximation at the boundaries:\n",
    "\n",
    "\n",
    "\n",
    "First order discrete difference equation: \n",
    "\\begin{equation}\n",
    "\\frac{\\partial p}{\\partial t} =\n",
    "\\frac{p(y_i, t+\\Delta t)-p(y_i, t)}{\\Delta t} + \\mathcal{O}(\\Delta t)\n",
    "\\equiv \\frac{p_{i}^{n+1}-p_{i}^n}{\\Delta t} + \\mathcal{O}(\\Delta t).\n",
    "\\end{equation}\n",
    "\n",
    "and also:\n",
    "\\begin{equation}\n",
    "\\frac{\\partial p}{\\partial y} =\n",
    "\\frac{p_{i+1}^{n+1}-p_{i}^{n+1}}{\\Delta y} + \\mathcal{O}(\\Delta y).\n",
    "\\end{equation}\n",
    "\n",
    "(where we utilize ($p_i^{n+1}$, the solution at $(t+ \\Delta t)$ as the implicit scheme)\n",
    "\n",
    "\n",
    "\n",
    "\n"
   ]
  },
  {
   "cell_type": "markdown",
   "metadata": {},
   "source": [
    "#### Boundary condition at $y = y_e$:\n",
    "$$\n",
    "\\frac{\\delta p}{\\delta y} |_{y = y_e} =0 \n",
    "$$\n",
    "\n",
    "Which then gives: \n",
    "\\begin{equation}\n",
    "\\frac{p_4^{n+1}-p_{3}^{n+1}}{\\Delta y} + \\mathcal{O}(\\Delta y) = 0\n",
    "\\end{equation}\n",
    "\n"
   ]
  },
  {
   "cell_type": "markdown",
   "metadata": {},
   "source": [
    "Assuming that $\\mathcal{O}(\\Delta y)$ approaches zero, we get the condition: $p_4^{n+1}=p_{3}^{n+1}$"
   ]
  },
  {
   "cell_type": "markdown",
   "metadata": {},
   "source": [
    "#### Boundary condition at $y = y_w$:\n"
   ]
  },
  {
   "cell_type": "markdown",
   "metadata": {},
   "source": [
    "\\begin{equation}\n",
    "\\frac{\\delta p}{\\delta y} |_{y = y_w} = \\frac{Q \\mu }{2 \\pi h k}\n",
    "\\end{equation}"
   ]
  },
  {
   "cell_type": "markdown",
   "metadata": {},
   "source": [
    "Consider the differential at i = -1. \n",
    "\n",
    "\\begin{equation}\n",
    "\\frac{p_0^{n+1} - p_{-1}^{n+1}}{\\Delta y} = \\frac{Q \\mu }{2 \\pi h k}\n",
    "\\end{equation} "
   ]
  },
  {
   "cell_type": "markdown",
   "metadata": {},
   "source": [
    "Which gives us:\n",
    "\\begin{equation}\n",
    "p_{-1}^{n+1} = p_0^{n+1} - \\frac{Q \\mu \\Delta y}{2 \\pi h k } = p_0^{n+1} - \\beta \n",
    "\\end{equation}"
   ]
  },
  {
   "cell_type": "markdown",
   "metadata": {},
   "source": [
    "#### Inserting:"
   ]
  },
  {
   "cell_type": "markdown",
   "metadata": {},
   "source": [
    "Note, we define:\n",
    "$$\n",
    "\\xi_i \\equiv \\frac{\\eta e^{-2 y_i} \\Delta{t}}{r_w^2 \\Delta{y}^2}\\,,\n",
    "$$\n",
    "\n",
    "Inserting our expression at $i = 0$:\n",
    "\n",
    "\\begin{equation}\n",
    "p_0^{n+1} - p_0^{n} = \\xi_0 (p_{1}^{n+1} + p_{-1}^{n+1}-2 p_{0}^{n+1})\n",
    "\\end{equation}\n"
   ]
  },
  {
   "cell_type": "markdown",
   "metadata": {},
   "source": [
    "\n",
    "\n",
    "\\begin{equation}\n",
    "p_0^{n+1} - p_0^{n} = \\xi_0 (p_{1}^{n+1} +p_0^{n+1} - \\beta  + p_{0}^{n+1} -2 p_{0}^{n+1})\n",
    "\\end{equation}\n"
   ]
  },
  {
   "cell_type": "markdown",
   "metadata": {},
   "source": [
    "\n",
    "\\begin{equation}\n",
    "p_0^{n+1}(1+\\xi_0)  - \\xi_0 p_1^{n+1} = p_0^n - \\xi_0 \\beta \n",
    "\\end{equation} \n"
   ]
  },
  {
   "cell_type": "markdown",
   "metadata": {},
   "source": [
    "$i = 1$\n",
    "\n",
    "\n",
    "\\begin{equation}\n",
    "p_1^{n+1} - p_1^{n} = \\xi_1 (p_{2}^{n+1} + p_{0}^{n+1}-2 p_{1}^{n+1})\n",
    "\\end{equation}\n"
   ]
  },
  {
   "cell_type": "markdown",
   "metadata": {},
   "source": [
    "$\\rightarrow$\n",
    "\\begin{equation}\n",
    " -\\xi_1 p_0^{n+1} +(1+2\\xi_1)p_1^{n+1} - \\xi_1 p_2^{n+1}= p_1^n \n",
    "\\end{equation}\n"
   ]
  },
  {
   "cell_type": "markdown",
   "metadata": {},
   "source": [
    "$i = 2$\n",
    "\n",
    "\n",
    "\\begin{equation}\n",
    "p_2^{n+1} - p_2^{n} = \\xi_2 (p_{3}^{n+1} + p_{1}^{n+1}-2 p_{2}^{n+1})\n",
    "\\end{equation}\n"
   ]
  },
  {
   "cell_type": "markdown",
   "metadata": {},
   "source": [
    "$\\rightarrow$\n",
    "\\begin{equation}\n",
    " -\\xi_2 p_2^{n+1} +(1+2\\xi_2)p_2^{n+1} - \\xi_2 p_3^{n+1}= p_2^n \n",
    "\\end{equation}\n"
   ]
  },
  {
   "cell_type": "markdown",
   "metadata": {},
   "source": [
    "$i = 3$\n",
    "\n",
    "\n",
    "\\begin{equation}\n",
    "p_3^{n+1} - p_3^{n} = \\xi_3 (p_{4}^{n+1} + p_{2}^{n+1}-2 p_{3}^{n+1})\n",
    "\\end{equation}"
   ]
  },
  {
   "cell_type": "markdown",
   "metadata": {},
   "source": [
    "$\\rightarrow$\n",
    "\\begin{equation}\n",
    "p_3^{n+1} - p_3^{n} = \\xi_3 (p_{3}^{n+1} + p_{2}^{n+1}-2 p_{3}^{n+1})\n",
    "\\end{equation}"
   ]
  },
  {
   "cell_type": "markdown",
   "metadata": {},
   "source": [
    "$\\rightarrow$\n",
    "\\begin{equation}\n",
    "-\\xi_3 p_2^{n+1} +(1+\\xi_3) p_3^{n+1} = p_3^n\n",
    "\\end{equation}"
   ]
  },
  {
   "cell_type": "markdown",
   "metadata": {},
   "source": [
    "These expressions can now be converted to matrix form: \n",
    "    \n",
    "\\begin{equation}\n",
    "\\begin{pmatrix}\n",
    "1+\\xi_0&-\\xi_0&0&0\\\\ \n",
    "-\\xi_1&1+2\\xi_1&-\\xi_1&0\\\\ \n",
    "0&-\\xi_2&1+2\\xi_2&-\\xi_2\\\\ \n",
    "0&0&-\\xi_3&1+\\xi_3\\\\ \n",
    "\\end{pmatrix}\n",
    "\\begin{pmatrix}\n",
    "p_0^{n+1}\\\\ \n",
    "p_1^{n+1}\\\\ \n",
    "p_2^{n+1}\\\\ \n",
    "p_3^{n+1}\\\\ \n",
    "\\end{pmatrix}\n",
    "=\n",
    "\\begin{pmatrix} \n",
    "p_0^{n}-\\xi_0\\beta\\\\ \n",
    "p_1^{n}\\\\ \n",
    "p_2^{n}\\\\ \n",
    "p_3^{n}\\\\ \n",
    "\\end{pmatrix}\n",
    "\\end{equation}"
   ]
  },
  {
   "cell_type": "code",
   "execution_count": null,
   "metadata": {},
   "outputs": [],
   "source": []
  },
  {
   "cell_type": "markdown",
   "metadata": {},
   "source": [
    "## Exercise 3"
   ]
  },
  {
   "cell_type": "markdown",
   "metadata": {},
   "source": [
    "### Part 2"
   ]
  },
  {
   "cell_type": "code",
   "execution_count": 292,
   "metadata": {},
   "outputs": [
    {
     "ename": "TypeError",
     "evalue": "plot_line_source_solution() missing 2 required positional arguments: 't' and 'r'",
     "output_type": "error",
     "traceback": [
      "\u001b[1;31m---------------------------------------------------------------------------\u001b[0m",
      "\u001b[1;31mTypeError\u001b[0m                                 Traceback (most recent call last)",
      "\u001b[1;32m<ipython-input-292-b20da863dc5d>\u001b[0m in \u001b[0;36m<module>\u001b[1;34m\u001b[0m\n\u001b[0;32m      4\u001b[0m \u001b[0mr\u001b[0m \u001b[1;33m=\u001b[0m \u001b[0minstance\u001b[0m\u001b[1;33m.\u001b[0m\u001b[0mr_from_mids\u001b[0m\u001b[1;33m\u001b[0m\u001b[1;33m\u001b[0m\u001b[0m\n\u001b[0;32m      5\u001b[0m \u001b[1;33m\u001b[0m\u001b[0m\n\u001b[1;32m----> 6\u001b[1;33m \u001b[0minstance\u001b[0m\u001b[1;33m.\u001b[0m\u001b[0mplot_line_source_solution\u001b[0m\u001b[1;33m(\u001b[0m\u001b[1;33m)\u001b[0m\u001b[1;33m\u001b[0m\u001b[1;33m\u001b[0m\u001b[0m\n\u001b[0m\u001b[0;32m      7\u001b[0m \u001b[0minstance\u001b[0m\u001b[1;33m.\u001b[0m\u001b[0mplot_numerical_solution\u001b[0m\u001b[1;33m(\u001b[0m\u001b[1;34m'True'\u001b[0m\u001b[1;33m)\u001b[0m\u001b[1;33m\u001b[0m\u001b[1;33m\u001b[0m\u001b[0m\n\u001b[0;32m      8\u001b[0m \u001b[0minstance\u001b[0m\u001b[1;33m.\u001b[0m\u001b[0mplot_numerical_solution\u001b[0m\u001b[1;33m(\u001b[0m\u001b[1;34m'False'\u001b[0m\u001b[1;33m)\u001b[0m\u001b[1;33m\u001b[0m\u001b[1;33m\u001b[0m\u001b[0m\n",
      "\u001b[1;31mTypeError\u001b[0m: plot_line_source_solution() missing 2 required positional arguments: 't' and 'r'"
     ]
    }
   ],
   "source": [
    "instance = RadialDiffusivityEquationSolver(100)\n",
    "\n",
    "\n",
    "r = instance.r_from_mids\n",
    "\n",
    "instance.plot_line_source_solution()\n",
    "instance.plot_numerical_solution('True')\n",
    "instance.plot_numerical_solution('False')\n"
   ]
  },
  {
   "cell_type": "markdown",
   "metadata": {},
   "source": [
    "We can see from the plots that both of the numerical solution match the analytical solution."
   ]
  },
  {
   "cell_type": "markdown",
   "metadata": {},
   "source": [
    "### Part 3\n"
   ]
  },
  {
   "cell_type": "code",
   "execution_count": 389,
   "metadata": {},
   "outputs": [
    {
     "name": "stdout",
     "output_type": "stream",
     "text": [
      "33.1 ms ± 52.1 µs per loop (mean ± std. dev. of 7 runs, 10 loops each)\n",
      "56.2 ms ± 1.83 ms per loop (mean ± std. dev. of 7 runs, 10 loops each)\n"
     ]
    }
   ],
   "source": [
    "Part_3_instance =RadialDiffusivityEquationSolver(1000)\n",
    "\n",
    "%timeit Part_3_instance.top_level(sparse ='True')\n",
    "%timeit Part_3_instance.top_level(sparse ='False')\n"
   ]
  },
  {
   "cell_type": "markdown",
   "metadata": {},
   "source": [
    "As we can see, the non-sparse approach is somewhat slower"
   ]
  },
  {
   "cell_type": "markdown",
   "metadata": {},
   "source": [
    "## Exercise 4"
   ]
  },
  {
   "cell_type": "markdown",
   "metadata": {},
   "source": [
    "### Part 1"
   ]
  },
  {
   "cell_type": "code",
   "execution_count": 5,
   "metadata": {},
   "outputs": [
    {
     "name": "stdout",
     "output_type": "stream",
     "text": [
      "    time  well_pressure\n",
      "0      0           1900\n",
      "1     10           1849\n",
      "2     20           1784\n",
      "3     40           1726\n",
      "4     80           1661\n",
      "5    150           1595\n",
      "6    300           1508\n",
      "7    500           1421\n",
      "8    800           1320\n",
      "9   1200           1211\n",
      "10  1500           1131\n",
      "11  2000            986\n",
      "12  2500            856\n",
      "13  3000            718\n"
     ]
    }
   ],
   "source": [
    "df2 = pd.read_csv('data/well_test.dat', skiprows=3, sep = '\\t')\n",
    "print(df2)"
   ]
  },
  {
   "cell_type": "code",
   "execution_count": 6,
   "metadata": {},
   "outputs": [
    {
     "data": {
      "text/plain": [
       "<matplotlib.collections.PathCollection at 0x27d1909f160>"
      ]
     },
     "execution_count": 6,
     "metadata": {},
     "output_type": "execute_result"
    },
    {
     "data": {
      "image/png": "[encoded data removed]",
      "text/plain": [
       "<Figure size 432x288 with 1 Axes>"
      ]
     },
     "metadata": {
      "needs_background": "light"
     },
     "output_type": "display_data"
    }
   ],
   "source": [
    "figure41 = plt.figure()\n",
    "subfig = figure41.add_subplot()\n",
    "subfig.scatter(df2['time'], df2['well_pressure'])\n",
    "#subfig.set_xscale('log')\n"
   ]
  },
  {
   "cell_type": "markdown",
   "metadata": {},
   "source": [
    "We can see a distinct large initial decrease of preassure which seamingly develops into a more linear decrease. "
   ]
  },
  {
   "cell_type": "markdown",
   "metadata": {},
   "source": [
    "### Part 2"
   ]
  },
  {
   "cell_type": "markdown",
   "metadata": {},
   "source": [
    "\\begin{equation}\n",
    "\\frac{\\delta p}{\\delta y} |_{y = y_w} = \\frac{Q \\mu }{2 \\pi h k}\n",
    "\\end{equation}\n",
    "\n",
    "first order discrete approximation with ($h =\\Delta y /2$): \n",
    "\n",
    "\\begin{equation}\n",
    "\\frac{p^{n+1}_0 -p^{n+1}_w}{\\Delta y /2} = \\frac{Q \\mu }{2 \\pi h k}\n",
    "\\end{equation}\n",
    "\n",
    "\\begin{equation}\n",
    " p^{n+1}_w = p^{n+1}_0 -\\frac{Q \\mu \\Delta y }{ 4\\pi h k}\n",
    "\\end{equation}\n",
    "\n",
    "\\begin{equation}\n",
    " p^{n+1}_w = p^{n+1}_0 -\\frac{1}{2} \\beta\n",
    "\\end{equation}"
   ]
  },
  {
   "cell_type": "markdown",
   "metadata": {},
   "source": [
    "### Part 4"
   ]
  },
  {
   "cell_type": "code",
   "execution_count": 212,
   "metadata": {},
   "outputs": [
    {
     "data": {
      "image/png": "[encoded data removed]",
      "text/plain": [
       "<Figure size 432x288 with 1 Axes>"
      ]
     },
     "metadata": {
      "needs_background": "light"
     },
     "output_type": "display_data"
    }
   ],
   "source": [
    "part4_instance = RadialDiffusivityEquationSolver(100, rw=0.328, re = 100000., h=8.0,\n",
    "                 k=100, phi=0.1, mu=1.0, ct=17.7e-6,\n",
    "                 Q=1000, pi=2700, dt=0.01, max_time=10)\n",
    "\n",
    "\n",
    "part4_instance.plot_all_of_them(df2['time'],df2['well_pressure'])"
   ]
  },
  {
   "cell_type": "markdown",
   "metadata": {},
   "source": [
    "This is the best I can do, make like a porn-star and just take it."
   ]
  },
  {
   "cell_type": "markdown",
   "metadata": {},
   "source": [
    "### Part 5"
   ]
  },
  {
   "cell_type": "code",
   "execution_count": 203,
   "metadata": {},
   "outputs": [
    {
     "data": {
      "image/png": "[encoded data removed]",
      "text/plain": [
       "<Figure size 432x288 with 1 Axes>"
      ]
     },
     "metadata": {
      "needs_background": "light"
     },
     "output_type": "display_data"
    }
   ],
   "source": [
    "part5_instance = RadialDiffusivityEquationSolver(100, rw=0.328, re = 10000., h=8.0,\n",
    "                 k=100, phi=0.1, mu=1.0, ct=17.7e-6,\n",
    "                 Q=1000, pi=2650, dt=0.1, max_time=10)\n",
    "\n",
    "part5_instance.plot_all_of_them(df2['time'],df2['well_pressure'])"
   ]
  },
  {
   "cell_type": "markdown",
   "metadata": {},
   "source": [
    "re = 100???"
   ]
  },
  {
   "cell_type": "code",
   "execution_count": 642,
   "metadata": {},
   "outputs": [
    {
     "name": "stdout",
     "output_type": "stream",
     "text": [
      "466981.61273625394\n"
     ]
    }
   ],
   "source": [
    "volume = 2*(1000*0.3048)**2*np.pi*0.8\n",
    "print(volume)"
   ]
  },
  {
   "cell_type": "code",
   "execution_count": null,
   "metadata": {},
   "outputs": [],
   "source": []
  }
 ],
 "metadata": {
  "kernelspec": {
   "display_name": "Python 3",
   "language": "python",
   "name": "python3"
  },
  "language_info": {
   "codemirror_mode": {
    "name": "ipython",
    "version": 3
   },
   "file_extension": ".py",
   "mimetype": "text/x-python",
   "name": "python",
   "nbconvert_exporter": "python",
   "pygments_lexer": "ipython3",
   "version": "3.8.5"
  }
 },
 "nbformat": 4,
 "nbformat_minor": 2
}
