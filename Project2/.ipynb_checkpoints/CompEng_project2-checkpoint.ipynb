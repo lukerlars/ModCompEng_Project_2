{
 "cells": [
  {
   "cell_type": "markdown",
   "metadata": {},
   "source": [
    "# Modelling and Computational Engineering Project 2\n"
   ]
  },
  {
   "cell_type": "code",
   "execution_count": null,
   "metadata": {},
   "outputs": [],
   "source": []
  },
  {
   "cell_type": "code",
   "execution_count": null,
   "metadata": {},
   "outputs": [],
   "source": []
  },
  {
   "cell_type": "code",
   "execution_count": null,
   "metadata": {},
   "outputs": [],
   "source": []
  },
  {
   "cell_type": "code",
   "execution_count": null,
   "metadata": {},
   "outputs": [],
   "source": []
  },
  {
   "cell_type": "code",
   "execution_count": 1,
   "metadata": {},
   "outputs": [],
   "source": [
    "import pandas as pd\n",
    "import numpy as np\n",
    "import matplotlib.pyplot as plt\n",
    "import scipy.special as sc\n",
    "\n",
    "%matplotlib inline"
   ]
  },
  {
   "cell_type": "markdown",
   "metadata": {},
   "source": [
    "##  Exercise 1"
   ]
  },
  {
   "cell_type": "markdown",
   "metadata": {},
   "source": [
    "### Part 1"
   ]
  },
  {
   "cell_type": "code",
   "execution_count": 2,
   "metadata": {},
   "outputs": [],
   "source": [
    "df = pd.read_csv('data\\perm_data.dat', skiprows=4, sep = '\\t')"
   ]
  },
  {
   "cell_type": "markdown",
   "metadata": {},
   "source": [
    "Task: import file and plot $\\Delta P$ vs $Q$"
   ]
  },
  {
   "cell_type": "code",
   "execution_count": 3,
   "metadata": {},
   "outputs": [
    {
     "name": "stdout",
     "output_type": "stream",
     "text": [
      "   q[ml/s]  DP[atm]\n",
      "0      0.1    0.396\n",
      "1      0.2    0.170\n",
      "2      0.3    0.720\n",
      "3      0.6    0.369\n",
      "4      1.0    1.406\n",
      "5      1.5    2.318\n",
      "6      2.0    8.000\n"
     ]
    }
   ],
   "source": [
    "print(df)"
   ]
  },
  {
   "cell_type": "code",
   "execution_count": 4,
   "metadata": {},
   "outputs": [
    {
     "data": {
      "text/plain": [
       "<matplotlib.collections.PathCollection at 0x1df3a924a90>"
      ]
     },
     "execution_count": 4,
     "metadata": {},
     "output_type": "execute_result"
    },
    {
     "data": {
      "image/png": "[encoded data removed]",
      "text/plain": [
       "<Figure size 432x288 with 1 Axes>"
      ]
     },
     "metadata": {
      "needs_background": "light"
     },
     "output_type": "display_data"
    }
   ],
   "source": [
    "plt.scatter(df['DP[atm]'],df['q[ml/s]'])"
   ]
  },
  {
   "cell_type": "markdown",
   "metadata": {},
   "source": [
    "### Part 2"
   ]
  },
  {
   "cell_type": "markdown",
   "metadata": {},
   "source": [
    "Matrix linear regression"
   ]
  },
  {
   "cell_type": "code",
   "execution_count": 5,
   "metadata": {},
   "outputs": [
    {
     "data": {
      "text/plain": [
       "array([0.38382154, 0.22522231])"
      ]
     },
     "execution_count": 5,
     "metadata": {},
     "output_type": "execute_result"
    }
   ],
   "source": [
    "from numpy.linalg import solve\n",
    "def OLSM(x, y):\n",
    "# returns regression coefficients\n",
    "# in ordinary least square using solve function\n",
    "# x: observations\n",
    "# y: response\n",
    "    XT = np.array([np.ones(len(x)),x], float)\n",
    "    YT = y\n",
    "    Y = np.transpose(y)\n",
    "    X = np.transpose(XT)\n",
    "    B = np.dot(XT,X)\n",
    "    C = np.dot(XT,YT)\n",
    "    return solve(B,C)\n",
    "\n",
    "OLSM(df['DP[atm]'],df['q[ml/s]'])\n"
   ]
  },
  {
   "cell_type": "code",
   "execution_count": 6,
   "metadata": {},
   "outputs": [
    {
     "data": {
      "text/plain": [
       "Text(0, 0.5, 'q [ml/s]')"
      ]
     },
     "execution_count": 6,
     "metadata": {},
     "output_type": "execute_result"
    },
    {
     "data": {
      "image/png": "[encoded data removed]",
      "text/plain": [
       "<Figure size 432x288 with 1 Axes>"
      ]
     },
     "metadata": {
      "needs_background": "light"
     },
     "output_type": "display_data"
    }
   ],
   "source": [
    "outs = OLSM(df['DP[atm]'],df['q[ml/s]'])\n",
    "xval = np.arange(0,10)\n",
    "yval = xval*outs[1] +outs[0] \n",
    "\n",
    "fig2 = plt.figure()\n",
    "ax = fig2.add_subplot()\n",
    "ax.scatter(df['DP[atm]'],df['q[ml/s]'], label = 'Data scatterplot')\n",
    "ax.plot(xval,yval, label='OLSM Regression')\n",
    "ax.legend()\n",
    "plt.title('E1 P1 Plot')\n",
    "plt.xlabel('DP[atm]')\n",
    "plt.ylabel('q [ml/s]')"
   ]
  },
  {
   "cell_type": "code",
   "execution_count": null,
   "metadata": {},
   "outputs": [],
   "source": []
  },
  {
   "cell_type": "code",
   "execution_count": null,
   "metadata": {},
   "outputs": [],
   "source": []
  },
  {
   "cell_type": "markdown",
   "metadata": {},
   "source": [
    "## Exercise 2"
   ]
  },
  {
   "cell_type": "markdown",
   "metadata": {},
   "source": [
    "### Part 1\n"
   ]
  },
  {
   "cell_type": "code",
   "execution_count": 7,
   "metadata": {},
   "outputs": [],
   "source": [
    "class RadialDiffusivityEquationSolver:\n",
    "    \"\"\"\n",
    "    A finite difference solver for the radial diffusivity equation.\n",
    "    We use the coordinate transformation y = ln(r/rw) to set up and\n",
    "    solve the pressure equation.\n",
    "\n",
    "    The solver uses SI units internally, while \"practical field units\"\n",
    "    are required as input.\n",
    "\n",
    "    Except for the number of grid blocks / points to use, all class\n",
    "    instance attributes are provided with reasonable default values.\n",
    "\n",
    "    Input arguments:\n",
    "\n",
    "        name                                symbol      unit\n",
    "        --------------------------------------------------------------\n",
    "        Number of grid points                N          dimensionless\n",
    "        well radius                          rw         ft\n",
    "        extent of reservoir                  re         ft\n",
    "        height of reservoir                  h          ft\n",
    "        permeability                         k          mD\n",
    "        porosity                             phi        dimensionless\n",
    "        fluid viscosity                      mu         mPas (cP)\n",
    "        total compressibility                ct         1 / psi\n",
    "        constant flow rate at well           Q          bbl / day\n",
    "        initial reservoir pressure           pi         psi\n",
    "        constant time step                   dt         days\n",
    "        maximal simulation time          max_time       days\n",
    "        -------------------------------------------------------------\n",
    "    \"\"\"\n",
    "\n",
    "    def __init__(self, N, rw=0.328, re = 100000., h=8.0,\n",
    "                 k=500, phi=0.1, mu=1.0, ct=17.7e-6,\n",
    "                 Q=1000, pi=2000, dt=0.1, max_time=10):\n",
    "\n",
    "        # Unit conversion factors (input units --> SI)\n",
    "        self.ft_to_m_ = 0.3048\n",
    "        self.psi_to_pa_ = 6894.75729\n",
    "        self.day_to_sec_ = 24*60*60\n",
    "        self.bbl_to_m3_ = 0.1589873\n",
    "\n",
    "        # Grid\n",
    "        self.N_ = N\n",
    "        self.rw_ = rw*self.ft_to_m_\n",
    "        self.re_ = re*self.ft_to_m_\n",
    "        self.h_ = h*self.ft_to_m_\n",
    "\n",
    "        # Rock and fluid properties\n",
    "        self.k_ = k*1e-15 / 1.01325\n",
    "        self.phi_ = phi\n",
    "        self.mu_ = mu*1e-3\n",
    "        self.ct_ = ct / self.psi_to_pa_\n",
    "\n",
    "        # Initial and boundary conditions\n",
    "        self.Q_ = Q*self.bbl_to_m3_ / self.day_to_sec_\n",
    "        self.pi_ = pi*self.psi_to_pa_\n",
    "\n",
    "        # Time control for simulation\n",
    "        self.dt_ = dt*self.day_to_sec_\n",
    "        self.max_time_ = max_time*self.day_to_sec_\n",
    "        self.current_time_ = 0.\n",
    "        \n",
    "    def line_source_solution(self, t, r):\n",
    "        eta_ =self.k_/(self.mu_*self.phi_*self.ct_)\n",
    "        return self.pi_ + ((self.Q_*self.mu_)/(4*np.pi*self.k_*self.h_))*sc.expi(-(r**2)/(4*eta_*t*self.day_to_sec_))\n",
    "    \n",
    "    def plot_line_source_solution(self, t):\n",
    "        r_vec = np.arange(self.rw_,self.re_)\n",
    "        res_pres= self.line_source_solution(t, r_vec)\n",
    "        figure = plt.figure()\n",
    "        plot = figure.add_subplot()\n",
    "        plot.plot(r_vec,res_pres)\n",
    "        plt.xlabel('Radial distance from line source')\n",
    "        plt.ylabel('Pressure [Pa]')"
   ]
  },
  {
   "cell_type": "code",
   "execution_count": 8,
   "metadata": {},
   "outputs": [
    {
     "data": {
      "image/png": "[encoded data removed]",
      "text/plain": [
       "<Figure size 432x288 with 1 Axes>"
      ]
     },
     "metadata": {
      "needs_background": "light"
     },
     "output_type": "display_data"
    }
   ],
   "source": [
    "p = RadialDiffusivityEquationSolver(N=500)\n",
    "\n",
    "p.plot_line_source_solution(10)\n",
    "\n"
   ]
  },
  {
   "cell_type": "markdown",
   "metadata": {},
   "source": [
    "### Part 2\n",
    "\n",
    "Explanation of plot:"
   ]
  },
  {
   "cell_type": "markdown",
   "metadata": {},
   "source": [
    "### Part 3\n",
    "\n",
    "Derive the new differential equation with boundary conditions when substituting $y = ln (\\frac{r}{r_w})$:"
   ]
  },
  {
   "cell_type": "markdown",
   "metadata": {},
   "source": [
    "First we recall the differential equation and boundary conditions pre-substitution: \n",
    "\n",
    "Differential eq:\n",
    "\n",
    "\\begin{equation}\n",
    "\\frac{\\delta p}{\\delta t} = \\eta \\frac{1}{r} \\frac{\\delta}{\\delta r}(r \\frac{\\delta p}{\\delta r})\n",
    "\\end{equation}\n",
    "\n",
    "Boundary condition at $r = r_w$: \n",
    "\n",
    "\\begin{equation}\n",
    "\\frac{2 \\pi h k r}{\\mu} \\frac{\\delta p}{\\delta r} |_{r = r_w} = Q\n",
    "\\end{equation}\n",
    "\n",
    "\n",
    "Boundary condition at $r = r_e$:\n",
    "\n",
    "\\begin{equation}\n",
    "\\frac{\\delta p}{\\delta r} |_{r = r_e} = 0\n",
    "\\end{equation}"
   ]
  },
  {
   "cell_type": "markdown",
   "metadata": {},
   "source": [
    " \n",
    " #### Answer:\n",
    " \n",
    " First, we apply the chain rule to $\\frac{\\delta p}{\\delta r}$\n",
    " \\begin{equation}\n",
    " \\frac{\\delta p}{\\delta r} = \\frac{\\delta p}{\\delta y} \\frac{\\delta y}{\\delta r}\n",
    " \\end{equation}"
   ]
  },
  {
   "cell_type": "markdown",
   "metadata": {},
   "source": [
    "\\begin{equation}\n",
    "\\frac{\\delta p}{\\delta r} =  \\frac{1}{r} \\frac{\\delta p}{\\delta y} = \\frac{1}{r_w}e^{-y} \\frac{\\delta p}{\\delta y} \n",
    "\\end{equation}"
   ]
  },
  {
   "cell_type": "markdown",
   "metadata": {},
   "source": [
    "Note that from the defitnion of $y$, $r = r_w e^y$\n",
    "\n",
    "\n",
    "Then we insert into the differential: \n",
    "\n",
    "\n",
    "\\begin{equation}\n",
    "\\frac{\\delta p}{\\delta t} = \\eta \\frac{1}{r_w}e^{-y} \\frac{\\delta}{\\delta r}( r_w e^y \\frac{1}{r_w}e^{-y} \\frac{\\delta p}{\\delta y} )=\n",
    "\\end{equation}\n",
    "\n",
    "\n",
    "\\begin{equation}\n",
    "\\frac{\\delta p}{\\delta t} = \\eta \\frac{1}{r_w}e^{-y} \\frac{\\delta}{\\delta r}(\\frac{\\delta p}{\\delta y} )\n",
    "\\end{equation}"
   ]
  },
  {
   "cell_type": "markdown",
   "metadata": {},
   "source": [
    "Again, we must use the chain rule:\n",
    "\n",
    "Let $u =\\frac{\\delta p}{\\delta y}$\n",
    "\n",
    "\\begin{equation}\n",
    "\\frac{\\delta u}{\\delta r} = \\frac{\\delta u}{\\delta y} \\frac{\\delta y}{ \\delta r} = \\frac{1}{r} \\frac{\\delta u}{\\delta y} = \\frac{1}{r_w}e^{-y} \\frac{{\\delta}^2 p}{\\delta y^2}\n",
    "\\end{equation}"
   ]
  },
  {
   "cell_type": "markdown",
   "metadata": {},
   "source": [
    "Which then gives us our expression: \n",
    "\n",
    "\\begin{equation}\n",
    "\\frac{\\delta p}{\\delta t} = \\eta \\frac{1}{{r_w}^2} e^{-2y} \\frac{{\\delta}^2 p}{\\delta y^2}\n",
    "\\end{equation}"
   ]
  },
  {
   "cell_type": "markdown",
   "metadata": {},
   "source": [
    "We can then turn our attention to the boundary coondition at $r = r_w$:\n",
    "\n",
    "\\begin{equation}\n",
    "\\frac{2 \\pi h k r}{\\mu} \\frac{\\delta p}{\\delta r} |_{r = r_w} = \\frac{2 \\pi h k  r_w e^y}{\\mu} \\frac{1}{r_w} e^{-y} \\frac{\\delta p}{\\delta y} |_{y = y_w} = \\frac{2 \\pi h k}{\\mu} \\frac{\\delta p}{\\delta y} |_{y = y_w} = Q\n",
    "\\end{equation}\n",
    "\n",
    "Which can be rewritten as:\n",
    "\n",
    "\\begin{equation}\n",
    "\\frac{\\delta p}{\\delta y} |_{y = y_w} = \\frac{Q \\mu }{2 \\pi h k}\n",
    "\\end{equation}"
   ]
  },
  {
   "cell_type": "markdown",
   "metadata": {},
   "source": [
    "Finally, the boundary condition at $r = r_w$\n",
    "\n",
    "\\begin{equation}\n",
    "\\frac{\\delta p}{\\delta r} |_{r = r_e} = \\frac{1}{r_w}e^{-y} \\frac{\\delta p}{\\delta y} |_{y = y_e} =0 \n",
    "\\end{equation}\n",
    "\n"
   ]
  },
  {
   "cell_type": "markdown",
   "metadata": {},
   "source": [
    "Which implies:\n",
    "\\begin{equation}\n",
    "\\frac{\\delta p}{\\delta y} |_{y = y_e} =0 \n",
    "\\end{equation}"
   ]
  },
  {
   "cell_type": "markdown",
   "metadata": {},
   "source": [
    "### Part 4"
   ]
  },
  {
   "cell_type": "code",
   "execution_count": 10,
   "metadata": {},
   "outputs": [],
   "source": [
    "attempt = RadialDiffusivityEquationSolver(N=500)"
   ]
  },
  {
   "cell_type": "code",
   "execution_count": 55,
   "metadata": {},
   "outputs": [],
   "source": [
    "N =50\n",
    "y_w = 0\n",
    "y_e = np.log(attempt.re_/attempt.rw_)\n",
    "y = np.linspace(y_w, y_e, num =N)\n",
    "y_mids = np.cumsum(np.diff(y))\n",
    "#print(y_mids)\n",
    "r_from_mids = attempt.rw_*np.exp(y_mids)\n",
    "#print(r_from_mids)"
   ]
  },
  {
   "cell_type": "code",
   "execution_count": 56,
   "metadata": {},
   "outputs": [
    {
     "ename": "ValueError",
     "evalue": "operands could not be broadcast together with shapes (30480,) (49,) ",
     "output_type": "error",
     "traceback": [
      "\u001b[1;31m---------------------------------------------------------------------------\u001b[0m",
      "\u001b[1;31mValueError\u001b[0m                                Traceback (most recent call last)",
      "\u001b[1;32m<ipython-input-56-eb4cc4a52f11>\u001b[0m in \u001b[0;36m<module>\u001b[1;34m\u001b[0m\n\u001b[1;32m----> 1\u001b[1;33m \u001b[0mattempt\u001b[0m\u001b[1;33m.\u001b[0m\u001b[0mplot_line_source_solution\u001b[0m\u001b[1;33m(\u001b[0m\u001b[0mr_from_mids\u001b[0m\u001b[1;33m)\u001b[0m\u001b[1;33m\u001b[0m\u001b[1;33m\u001b[0m\u001b[0m\n\u001b[0m",
      "\u001b[1;32m<ipython-input-7-3786298fa187>\u001b[0m in \u001b[0;36mplot_line_source_solution\u001b[1;34m(self, t)\u001b[0m\n\u001b[0;32m     67\u001b[0m     \u001b[1;32mdef\u001b[0m \u001b[0mplot_line_source_solution\u001b[0m\u001b[1;33m(\u001b[0m\u001b[0mself\u001b[0m\u001b[1;33m,\u001b[0m \u001b[0mt\u001b[0m\u001b[1;33m)\u001b[0m\u001b[1;33m:\u001b[0m\u001b[1;33m\u001b[0m\u001b[1;33m\u001b[0m\u001b[0m\n\u001b[0;32m     68\u001b[0m         \u001b[0mr_vec\u001b[0m \u001b[1;33m=\u001b[0m \u001b[0mnp\u001b[0m\u001b[1;33m.\u001b[0m\u001b[0marange\u001b[0m\u001b[1;33m(\u001b[0m\u001b[0mself\u001b[0m\u001b[1;33m.\u001b[0m\u001b[0mrw_\u001b[0m\u001b[1;33m,\u001b[0m\u001b[0mself\u001b[0m\u001b[1;33m.\u001b[0m\u001b[0mre_\u001b[0m\u001b[1;33m)\u001b[0m\u001b[1;33m\u001b[0m\u001b[1;33m\u001b[0m\u001b[0m\n\u001b[1;32m---> 69\u001b[1;33m         \u001b[0mres_pres\u001b[0m\u001b[1;33m=\u001b[0m \u001b[0mself\u001b[0m\u001b[1;33m.\u001b[0m\u001b[0mline_source_solution\u001b[0m\u001b[1;33m(\u001b[0m\u001b[0mt\u001b[0m\u001b[1;33m,\u001b[0m \u001b[0mr_vec\u001b[0m\u001b[1;33m)\u001b[0m\u001b[1;33m\u001b[0m\u001b[1;33m\u001b[0m\u001b[0m\n\u001b[0m\u001b[0;32m     70\u001b[0m         \u001b[0mfigure\u001b[0m \u001b[1;33m=\u001b[0m \u001b[0mplt\u001b[0m\u001b[1;33m.\u001b[0m\u001b[0mfigure\u001b[0m\u001b[1;33m(\u001b[0m\u001b[1;33m)\u001b[0m\u001b[1;33m\u001b[0m\u001b[1;33m\u001b[0m\u001b[0m\n\u001b[0;32m     71\u001b[0m         \u001b[0mplot\u001b[0m \u001b[1;33m=\u001b[0m \u001b[0mfigure\u001b[0m\u001b[1;33m.\u001b[0m\u001b[0madd_subplot\u001b[0m\u001b[1;33m(\u001b[0m\u001b[1;33m)\u001b[0m\u001b[1;33m\u001b[0m\u001b[1;33m\u001b[0m\u001b[0m\n",
      "\u001b[1;32m<ipython-input-7-3786298fa187>\u001b[0m in \u001b[0;36mline_source_solution\u001b[1;34m(self, t, r)\u001b[0m\n\u001b[0;32m     63\u001b[0m     \u001b[1;32mdef\u001b[0m \u001b[0mline_source_solution\u001b[0m\u001b[1;33m(\u001b[0m\u001b[0mself\u001b[0m\u001b[1;33m,\u001b[0m \u001b[0mt\u001b[0m\u001b[1;33m,\u001b[0m \u001b[0mr\u001b[0m\u001b[1;33m)\u001b[0m\u001b[1;33m:\u001b[0m\u001b[1;33m\u001b[0m\u001b[1;33m\u001b[0m\u001b[0m\n\u001b[0;32m     64\u001b[0m         \u001b[0meta_\u001b[0m \u001b[1;33m=\u001b[0m\u001b[0mself\u001b[0m\u001b[1;33m.\u001b[0m\u001b[0mk_\u001b[0m\u001b[1;33m/\u001b[0m\u001b[1;33m(\u001b[0m\u001b[0mself\u001b[0m\u001b[1;33m.\u001b[0m\u001b[0mmu_\u001b[0m\u001b[1;33m*\u001b[0m\u001b[0mself\u001b[0m\u001b[1;33m.\u001b[0m\u001b[0mphi_\u001b[0m\u001b[1;33m*\u001b[0m\u001b[0mself\u001b[0m\u001b[1;33m.\u001b[0m\u001b[0mct_\u001b[0m\u001b[1;33m)\u001b[0m\u001b[1;33m\u001b[0m\u001b[1;33m\u001b[0m\u001b[0m\n\u001b[1;32m---> 65\u001b[1;33m         \u001b[1;32mreturn\u001b[0m \u001b[0mself\u001b[0m\u001b[1;33m.\u001b[0m\u001b[0mpi_\u001b[0m \u001b[1;33m+\u001b[0m \u001b[1;33m(\u001b[0m\u001b[1;33m(\u001b[0m\u001b[0mself\u001b[0m\u001b[1;33m.\u001b[0m\u001b[0mQ_\u001b[0m\u001b[1;33m*\u001b[0m\u001b[0mself\u001b[0m\u001b[1;33m.\u001b[0m\u001b[0mmu_\u001b[0m\u001b[1;33m)\u001b[0m\u001b[1;33m/\u001b[0m\u001b[1;33m(\u001b[0m\u001b[1;36m4\u001b[0m\u001b[1;33m*\u001b[0m\u001b[0mnp\u001b[0m\u001b[1;33m.\u001b[0m\u001b[0mpi\u001b[0m\u001b[1;33m*\u001b[0m\u001b[0mself\u001b[0m\u001b[1;33m.\u001b[0m\u001b[0mk_\u001b[0m\u001b[1;33m*\u001b[0m\u001b[0mself\u001b[0m\u001b[1;33m.\u001b[0m\u001b[0mh_\u001b[0m\u001b[1;33m)\u001b[0m\u001b[1;33m)\u001b[0m\u001b[1;33m*\u001b[0m\u001b[0msc\u001b[0m\u001b[1;33m.\u001b[0m\u001b[0mexpi\u001b[0m\u001b[1;33m(\u001b[0m\u001b[1;33m-\u001b[0m\u001b[1;33m(\u001b[0m\u001b[0mr\u001b[0m\u001b[1;33m**\u001b[0m\u001b[1;36m2\u001b[0m\u001b[1;33m)\u001b[0m\u001b[1;33m/\u001b[0m\u001b[1;33m(\u001b[0m\u001b[1;36m4\u001b[0m\u001b[1;33m*\u001b[0m\u001b[0meta_\u001b[0m\u001b[1;33m*\u001b[0m\u001b[0mt\u001b[0m\u001b[1;33m*\u001b[0m\u001b[0mself\u001b[0m\u001b[1;33m.\u001b[0m\u001b[0mday_to_sec_\u001b[0m\u001b[1;33m)\u001b[0m\u001b[1;33m)\u001b[0m\u001b[1;33m\u001b[0m\u001b[1;33m\u001b[0m\u001b[0m\n\u001b[0m\u001b[0;32m     66\u001b[0m \u001b[1;33m\u001b[0m\u001b[0m\n\u001b[0;32m     67\u001b[0m     \u001b[1;32mdef\u001b[0m \u001b[0mplot_line_source_solution\u001b[0m\u001b[1;33m(\u001b[0m\u001b[0mself\u001b[0m\u001b[1;33m,\u001b[0m \u001b[0mt\u001b[0m\u001b[1;33m)\u001b[0m\u001b[1;33m:\u001b[0m\u001b[1;33m\u001b[0m\u001b[1;33m\u001b[0m\u001b[0m\n",
      "\u001b[1;31mValueError\u001b[0m: operands could not be broadcast together with shapes (30480,) (49,) "
     ]
    }
   ],
   "source": [
    "attempt.plot_line_source_solution(r_from_mids)"
   ]
  },
  {
   "cell_type": "code",
   "execution_count": null,
   "metadata": {},
   "outputs": [],
   "source": []
  }
 ],
 "metadata": {
  "kernelspec": {
   "display_name": "Python 3",
   "language": "python",
   "name": "python3"
  },
  "language_info": {
   "codemirror_mode": {
    "name": "ipython",
    "version": 3
   },
   "file_extension": ".py",
   "mimetype": "text/x-python",
   "name": "python",
   "nbconvert_exporter": "python",
   "pygments_lexer": "ipython3",
   "version": "3.8.5"
  }
 },
 "nbformat": 4,
 "nbformat_minor": 2
}
